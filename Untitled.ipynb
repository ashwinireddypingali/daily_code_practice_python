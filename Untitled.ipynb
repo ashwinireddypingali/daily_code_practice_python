{
 "cells": [
  {
   "cell_type": "code",
   "execution_count": 1,
   "metadata": {},
   "outputs": [],
   "source": [
    "import os\n",
    "import path\n",
    "import pandas as pd\n",
    "import numpy as np\n",
    "from numpy import *"
   ]
  },
  {
   "cell_type": "code",
   "execution_count": null,
   "metadata": {},
   "outputs": [],
   "source": []
  },
  {
   "cell_type": "code",
   "execution_count": 1,
   "metadata": {},
   "outputs": [],
   "source": [
    "#data = np.load('C:\\\\Users\\\\AP_2020\\\\Downloads\\\\vgg16_weights.npz', allow_pickle=True)\n",
    "#lst = data.files\n",
    "#lt=[]\n",
    "#for item in lst:\n",
    "#    lt.append(data[item])\n",
    "#    print(item)\n",
    "#    print(data[item])"
   ]
  },
  {
   "cell_type": "code",
   "execution_count": 81,
   "metadata": {},
   "outputs": [
    {
     "name": "stdout",
     "output_type": "stream",
     "text": [
      "stive 12\n"
     ]
    }
   ],
   "source": [
    "s=\"BANANA\"\n",
    "v = ['A','E','I','O','U']\n",
    "\n",
    "lt= []\n",
    "k = 0\n",
    "ss = 0\n",
    "\n",
    "for i in range(len(s)):\n",
    "    if str(s[i]) in v:\n",
    "        k  += (len(s)-i)\n",
    "    else:\n",
    "        ss += (len(s)-i)\n",
    "        \n",
    "if k > ss:\n",
    "    print(\"kelvin\",k)\n",
    "else:\n",
    "    print(\"stive\",ss)\n",
    "        "
   ]
  },
  {
   "cell_type": "markdown",
   "metadata": {},
   "source": [
    "#### Task - 2 :"
   ]
  },
  {
   "cell_type": "code",
   "execution_count": 83,
   "metadata": {},
   "outputs": [],
   "source": [
    "v = ['a','e','i','o','u']\n",
    "word=\"hacker book\""
   ]
  },
  {
   "cell_type": "code",
   "execution_count": 84,
   "metadata": {},
   "outputs": [],
   "source": [
    "dic={}\n",
    "for i in range(len(word.split(\" \"))):\n",
    "    for c in word.split(\" \")[i]:\n",
    "        if c in v:\n",
    "            \n",
    "            dic={word.split(\" \")[i]:c}\n",
    "        #print(word.split(\" \")[i])\n",
    " "
   ]
  },
  {
   "cell_type": "code",
   "execution_count": 85,
   "metadata": {},
   "outputs": [
    {
     "data": {
      "text/plain": [
       "{'book': 'o'}"
      ]
     },
     "execution_count": 85,
     "metadata": {},
     "output_type": "execute_result"
    }
   ],
   "source": [
    "dic"
   ]
  },
  {
   "cell_type": "code",
   "execution_count": 98,
   "metadata": {},
   "outputs": [
    {
     "data": {
      "text/plain": [
       "18"
      ]
     },
     "execution_count": 98,
     "metadata": {},
     "output_type": "execute_result"
    }
   ],
   "source": [
    "sum(sum(char in 'aeiouy' for char in w) % 2 or 2 for w in word)"
   ]
  },
  {
   "cell_type": "code",
   "execution_count": 96,
   "metadata": {},
   "outputs": [
    {
     "name": "stdout",
     "output_type": "stream",
     "text": [
      "a\n",
      "e\n",
      "o\n",
      "o\n"
     ]
    }
   ],
   "source": [
    "score = 0\n",
    "for w in word:\n",
    "    num_vowels = 0\n",
    "    for letter in w:\n",
    "        if letter in 'aeiou':\n",
    "            num_vowels +=1\n",
    "            print(letter)\n",
    "    if num_vowels % 2 == 0:\n",
    "        score +=2\n",
    "       # print(score)\n",
    "    else :\n",
    "        score +=1\n",
    "            "
   ]
  },
  {
   "cell_type": "code",
   "execution_count": 97,
   "metadata": {},
   "outputs": [
    {
     "data": {
      "text/plain": [
       "18"
      ]
     },
     "execution_count": 97,
     "metadata": {},
     "output_type": "execute_result"
    }
   ],
   "source": [
    "score"
   ]
  },
  {
   "cell_type": "markdown",
   "metadata": {},
   "source": [
    "### Task - 3 :"
   ]
  },
  {
   "cell_type": "code",
   "execution_count": 61,
   "metadata": {},
   "outputs": [],
   "source": [
    "input =\"1222311\""
   ]
  },
  {
   "cell_type": "code",
   "execution_count": 70,
   "metadata": {},
   "outputs": [
    {
     "name": "stdout",
     "output_type": "stream",
     "text": [
      "('1', '2') ('2', '1') ('2', '2') ('2', '3') ('3', '1') ('1', '1') ('1', '2') "
     ]
    }
   ],
   "source": [
    "count = 1\n",
    "lt=[]\n",
    "for i in range(len(input)):\n",
    "        \n",
    "    if (input[i] == input[i-1]):\n",
    "        count += 1\n",
    "        print(tuple(str(input[i])+str(count)),end = \" \")\n",
    "    else :\n",
    "        count = 1\n",
    "        print(tuple(str(input[i])+str(count)),end = \" \")\n",
    "        #print(\"done\")\n",
    " "
   ]
  },
  {
   "cell_type": "markdown",
   "metadata": {},
   "source": [
    "### Task - 4:"
   ]
  },
  {
   "cell_type": "code",
   "execution_count": 34,
   "metadata": {},
   "outputs": [
    {
     "name": "stdout",
     "output_type": "stream",
     "text": [
      "-260\n",
      "-55\n",
      "-10\n",
      "-2\n",
      "0\n",
      "0\n",
      "0\n",
      "1\n",
      "2\n",
      "3\n",
      "4\n",
      "333\n"
     ]
    }
   ],
   "source": [
    "# Sort the resultant list in an assending order ?\n",
    "\n",
    "a= [333,-55,-2,0,2,-10,-260]\n",
    "b=[3,0,1,0,4]\n",
    "a.extend(b)\n",
    "\n",
    "for i in range(0,len(a)):\n",
    "    for j in range(i+1,len(a)):\n",
    "        if a[i]>a[j]:\n",
    "            a[i],a[j]=a[j],a[i]\n",
    "    print(a[i])"
   ]
  },
  {
   "cell_type": "code",
   "execution_count": 35,
   "metadata": {},
   "outputs": [
    {
     "data": {
      "text/plain": [
       "[-260, -55, -10, -2, 0, 0, 0, 1, 2, 3, 4, 333]"
      ]
     },
     "execution_count": 35,
     "metadata": {},
     "output_type": "execute_result"
    }
   ],
   "source": [
    "a"
   ]
  },
  {
   "cell_type": "code",
   "execution_count": 36,
   "metadata": {},
   "outputs": [],
   "source": [
    "#(or)\n",
    "a= [333,-55,-2,0,2,-10,-260]\n",
    "b=[3,0,1,0,4]\n",
    "a.extend(b)\n",
    "\n",
    "for i in range(1,len(a)):\n",
    "    item = a[i]\n",
    "    j = i-1\n",
    "    while j >=0 and a[j]>item:\n",
    "        a[j+1] = a[j]\n",
    "        j -= 1\n",
    "    a[j+1] = item"
   ]
  },
  {
   "cell_type": "code",
   "execution_count": 37,
   "metadata": {},
   "outputs": [
    {
     "data": {
      "text/plain": [
       "[-260, -55, -10, -2, 0, 0, 0, 1, 2, 3, 4, 333]"
      ]
     },
     "execution_count": 37,
     "metadata": {},
     "output_type": "execute_result"
    }
   ],
   "source": [
    "a"
   ]
  },
  {
   "cell_type": "code",
   "execution_count": null,
   "metadata": {},
   "outputs": [],
   "source": []
  },
  {
   "cell_type": "code",
   "execution_count": 3,
   "metadata": {},
   "outputs": [],
   "source": [
    "import random"
   ]
  },
  {
   "cell_type": "code",
   "execution_count": 20,
   "metadata": {},
   "outputs": [
    {
     "data": {
      "text/plain": [
       "21"
      ]
     },
     "execution_count": 20,
     "metadata": {},
     "output_type": "execute_result"
    }
   ],
   "source": [
    "random.randint(20,30)"
   ]
  },
  {
   "cell_type": "markdown",
   "metadata": {},
   "source": [
    "### Task - 5 :"
   ]
  },
  {
   "cell_type": "code",
   "execution_count": 25,
   "metadata": {},
   "outputs": [],
   "source": [
    "#There's a staircase with N steps, and you can climb 1 or 2 steps at a time. Given N, write a function that returns the number of unique ways you can climb the staircase. The order of the steps matters.\n",
    "#\n",
    "#For example, if N is 4, then there are 5 unique ways:\n",
    "#\n",
    "#1, 1, 1, 1\n",
    "#2, 1, 1\n",
    "#1, 2, 1\n",
    "#1, 1, 2\n",
    "#2, 2"
   ]
  },
  {
   "cell_type": "code",
   "execution_count": 203,
   "metadata": {},
   "outputs": [],
   "source": [
    "def staircase(n):\n",
    "    a, b = 1, 2\n",
    "    for i in range(n - 1):\n",
    "        a, b = b, a + b\n",
    "        print(a,b)\n",
    "    return a"
   ]
  },
  {
   "cell_type": "code",
   "execution_count": 206,
   "metadata": {},
   "outputs": [
    {
     "name": "stdout",
     "output_type": "stream",
     "text": [
      "2 3\n",
      "3 5\n",
      "5 8\n",
      "8 13\n",
      "13 21\n"
     ]
    },
    {
     "data": {
      "text/plain": [
       "13"
      ]
     },
     "execution_count": 206,
     "metadata": {},
     "output_type": "execute_result"
    }
   ],
   "source": [
    "staircase(6)"
   ]
  },
  {
   "cell_type": "code",
   "execution_count": 207,
   "metadata": {},
   "outputs": [],
   "source": [
    "def fib(n): \n",
    "    if n <= 1: \n",
    "        return n \n",
    "    return fib(n-1) + fib(n-2) \n",
    "  \n",
    "# Returns no. of ways to  \n",
    "# reach sth stair \n",
    "def countWays(s): \n",
    "    return fib(s + 1) \n",
    "  \n",
    "# Driver program \n"
   ]
  },
  {
   "cell_type": "code",
   "execution_count": 209,
   "metadata": {},
   "outputs": [
    {
     "data": {
      "text/plain": [
       "13"
      ]
     },
     "execution_count": 209,
     "metadata": {},
     "output_type": "execute_result"
    }
   ],
   "source": [
    "countWays(6)"
   ]
  },
  {
   "cell_type": "code",
   "execution_count": null,
   "metadata": {},
   "outputs": [],
   "source": []
  },
  {
   "cell_type": "code",
   "execution_count": null,
   "metadata": {},
   "outputs": [],
   "source": []
  },
  {
   "cell_type": "code",
   "execution_count": null,
   "metadata": {},
   "outputs": [],
   "source": []
  },
  {
   "cell_type": "markdown",
   "metadata": {},
   "source": [
    "### Task - 6"
   ]
  },
  {
   "cell_type": "markdown",
   "metadata": {},
   "source": [
    "There are two sorted arrays nums1 and nums2 of size m and n respectively.\n",
    "\n",
    "Find the median of the two sorted arrays. The overall run time complexity should be O(log (m+n)).\n",
    "\n",
    "You may assume nums1 and nums2 cannot be both empty."
   ]
  },
  {
   "cell_type": "code",
   "execution_count": 89,
   "metadata": {},
   "outputs": [
    {
     "data": {
      "text/plain": [
       "[1, 3, 2]"
      ]
     },
     "execution_count": 89,
     "metadata": {},
     "output_type": "execute_result"
    }
   ],
   "source": [
    "a= [1,3]\n",
    "b=[2]\n",
    "\n",
    "a.extend(b)\n",
    "\n",
    "a\n"
   ]
  },
  {
   "cell_type": "code",
   "execution_count": 90,
   "metadata": {},
   "outputs": [
    {
     "name": "stdout",
     "output_type": "stream",
     "text": [
      "1\n",
      "2\n",
      "2\n"
     ]
    }
   ],
   "source": [
    "for i in range(1,len(a)):\n",
    "    print(i)\n",
    "    item = a[i]\n",
    "    j = i-1\n",
    "    while j >= 0 and a[j]>item:\n",
    " \n",
    "        a[j+1] =  a[j]\n",
    "        j -=1\n",
    "        a[j+1] = item\n",
    "        print(a[j+1])"
   ]
  },
  {
   "cell_type": "code",
   "execution_count": 91,
   "metadata": {},
   "outputs": [
    {
     "data": {
      "text/plain": [
       "[1, 2, 3]"
      ]
     },
     "execution_count": 91,
     "metadata": {},
     "output_type": "execute_result"
    }
   ],
   "source": [
    "a"
   ]
  },
  {
   "cell_type": "code",
   "execution_count": 94,
   "metadata": {},
   "outputs": [],
   "source": [
    "mid = len(a) // 2"
   ]
  },
  {
   "cell_type": "code",
   "execution_count": 95,
   "metadata": {},
   "outputs": [
    {
     "name": "stdout",
     "output_type": "stream",
     "text": [
      "done\n",
      "2\n"
     ]
    }
   ],
   "source": [
    "if len(a) & 1:\n",
    "    print(\"done\")\n",
    "    print(a[mid])\n",
    "else:\n",
    "    print(\"did\")\n",
    "    print((a[mid]+a[mid-1])/2)"
   ]
  },
  {
   "cell_type": "markdown",
   "metadata": {},
   "source": [
    "### Task 7 :"
   ]
  },
  {
   "cell_type": "markdown",
   "metadata": {},
   "source": [
    "Longest Substring Without Repeating Characters"
   ]
  },
  {
   "cell_type": "code",
   "execution_count": 2,
   "metadata": {},
   "outputs": [],
   "source": [
    "inputs = \"abbcccd\""
   ]
  },
  {
   "cell_type": "code",
   "execution_count": 3,
   "metadata": {},
   "outputs": [],
   "source": [
    "lt = []\n",
    "for c in inputs:\n",
    "    if c not in lt:\n",
    "        lt.append(c)"
   ]
  },
  {
   "cell_type": "code",
   "execution_count": 5,
   "metadata": {},
   "outputs": [
    {
     "data": {
      "text/plain": [
       "'abcd'"
      ]
     },
     "execution_count": 5,
     "metadata": {},
     "output_type": "execute_result"
    }
   ],
   "source": [
    "''.join(lt)"
   ]
  },
  {
   "cell_type": "markdown",
   "metadata": {},
   "source": [
    "### Task - 8 :"
   ]
  },
  {
   "cell_type": "markdown",
   "metadata": {},
   "source": [
    "Longest Palindromic Substring"
   ]
  },
  {
   "cell_type": "code",
   "execution_count": 191,
   "metadata": {},
   "outputs": [],
   "source": [
    "inputs =\"babad\""
   ]
  },
  {
   "cell_type": "code",
   "execution_count": 192,
   "metadata": {},
   "outputs": [
    {
     "name": "stdout",
     "output_type": "stream",
     "text": [
      "b\n",
      "bab\n"
     ]
    }
   ],
   "source": [
    "temp = ''\n",
    "pal =[]\n",
    "\n",
    "for c in inputs:\n",
    "    pal.append(c)\n",
    "    if ''.join(pal) == ''.join(pal)[::-1]:\n",
    "        \n",
    "        if len('') < len(''.join(pal)):\n",
    "            temp = ''.join(pal)\n",
    "        print(temp)\n",
    " "
   ]
  },
  {
   "cell_type": "code",
   "execution_count": 29,
   "metadata": {},
   "outputs": [
    {
     "data": {
      "text/plain": [
       "0"
      ]
     },
     "execution_count": 29,
     "metadata": {},
     "output_type": "execute_result"
    }
   ],
   "source": [
    "len('')"
   ]
  },
  {
   "cell_type": "code",
   "execution_count": 26,
   "metadata": {},
   "outputs": [
    {
     "data": {
      "text/plain": [
       "['b', 'a', 'b', 'a', 'd']"
      ]
     },
     "execution_count": 26,
     "metadata": {},
     "output_type": "execute_result"
    }
   ],
   "source": [
    "len(''.join(pal))\n",
    "pal"
   ]
  },
  {
   "cell_type": "code",
   "execution_count": 10,
   "metadata": {},
   "outputs": [
    {
     "data": {
      "text/plain": [
       "'dabab'"
      ]
     },
     "execution_count": 10,
     "metadata": {},
     "output_type": "execute_result"
    }
   ],
   "source": [
    "inputs[::-1]"
   ]
  },
  {
   "cell_type": "code",
   "execution_count": 12,
   "metadata": {},
   "outputs": [
    {
     "data": {
      "text/plain": [
       "['a', 'b', 'c', 'd']"
      ]
     },
     "execution_count": 12,
     "metadata": {},
     "output_type": "execute_result"
    }
   ],
   "source": [
    "lt"
   ]
  },
  {
   "cell_type": "markdown",
   "metadata": {},
   "source": [
    "### Task - 9 :"
   ]
  },
  {
   "cell_type": "markdown",
   "metadata": {},
   "source": [
    "Given a list of integers, write a function that returns the largest sum of non-adjacent numbers. Numbers can be 0 or negative.\n",
    "\n",
    "For example, [2, 4, 6, 2, 5] should return 13, since we pick 2, 6, and 5. [5, 1, 1, 5] should return 10, since we pick 5 and 5."
   ]
  },
  {
   "cell_type": "code",
   "execution_count": 15,
   "metadata": {},
   "outputs": [],
   "source": [
    "def find_max_sum(arr): \n",
    "    incl = 0\n",
    "    excl = 0\n",
    "     \n",
    "    for i in arr: \n",
    "          \n",
    "        # Current max excluding i (No ternary in  \n",
    "        # Python) \n",
    "        new_excl = excl if excl>incl else incl \n",
    "         \n",
    "        # Current max including i \n",
    "        incl = excl + i \n",
    "        excl = new_excl \n",
    "      \n",
    "    # return max of incl and excl \n",
    "    return (excl if excl>incl else incl)"
   ]
  },
  {
   "cell_type": "code",
   "execution_count": 17,
   "metadata": {},
   "outputs": [
    {
     "name": "stdout",
     "output_type": "stream",
     "text": [
      "9\n"
     ]
    }
   ],
   "source": [
    "#arr = [5, 5, 10, 100, 10, 5] \n",
    "print(find_max_sum(arr))"
   ]
  },
  {
   "cell_type": "code",
   "execution_count": 29,
   "metadata": {},
   "outputs": [],
   "source": [
    "arr=[1,3,5,6,1]"
   ]
  },
  {
   "cell_type": "code",
   "execution_count": 30,
   "metadata": {},
   "outputs": [
    {
     "name": "stdout",
     "output_type": "stream",
     "text": [
      "0 1\n",
      "1 3\n",
      "3 6\n",
      "6 9\n",
      "9 7\n"
     ]
    }
   ],
   "source": [
    "incl = 0\n",
    "excl = 0\n",
    "for i in arr:\n",
    "\n",
    "    new_excl = excl if excl>incl else incl\n",
    "    #print(new_excl)\n",
    "    \n",
    "    incl= excl + i\n",
    "    excl = new_excl\n",
    "    print(excl,incl)\n"
   ]
  },
  {
   "cell_type": "code",
   "execution_count": 4,
   "metadata": {
    "collapsed": true
   },
   "outputs": [
    {
     "name": "stdout",
     "output_type": "stream",
     "text": [
      "9\n",
      "0\n",
      "0\n",
      "1\n",
      "0\n",
      "2\n",
      "3\n",
      "3\n",
      "3\n",
      "4\n",
      "6\n",
      "5\n",
      "8\n",
      "6\n",
      "3\n",
      "7\n",
      "8\n",
      "8\n",
      "2\n",
      "9\n"
     ]
    }
   ],
   "source": [
    "for i in range(0,10):\n",
    "    print(random.randint(0,10))\n",
    "    print(i)\n",
    " "
   ]
  },
  {
   "cell_type": "markdown",
   "metadata": {},
   "source": [
    "### Task - 10"
   ]
  },
  {
   "cell_type": "markdown",
   "metadata": {},
   "source": [
    "print the random numbers without using any random function?"
   ]
  },
  {
   "cell_type": "code",
   "execution_count": 184,
   "metadata": {},
   "outputs": [
    {
     "name": "stdout",
     "output_type": "stream",
     "text": [
      "27\n",
      "16\n",
      "1591960516.2789726 1591960516278.9727\n"
     ]
    }
   ],
   "source": [
    "random = int(time.time()*1000)  ## The time() function returns the number of seconds passed since epoch.\n",
    "random %= int(50)\n",
    "print(random)\n",
    "print(int(time.time())%int(50))\n",
    "print(time.time(),time.time()*1000)"
   ]
  },
  {
   "cell_type": "code",
   "execution_count": 11,
   "metadata": {},
   "outputs": [
    {
     "name": "stdout",
     "output_type": "stream",
     "text": [
      "deep\n",
      "dear\n",
      "deal\n"
     ]
    }
   ],
   "source": [
    "#inputs = ['deep','dear','dog','deal']\n",
    "#for s in inputs:\n",
    "#    if s[:2] == 'de':\n",
    "#        print(s)\n",
    "#    "
   ]
  },
  {
   "cell_type": "markdown",
   "metadata": {},
   "source": [
    "### Task - 11"
   ]
  },
  {
   "cell_type": "markdown",
   "metadata": {},
   "source": [
    "Given a string, find the length of the longest substring without repeating characters."
   ]
  },
  {
   "cell_type": "code",
   "execution_count": 32,
   "metadata": {},
   "outputs": [
    {
     "data": {
      "text/plain": [
       "'ewekkwwp'"
      ]
     },
     "execution_count": 32,
     "metadata": {},
     "output_type": "execute_result"
    }
   ],
   "source": [
    "inp =\"pwwkkewe\"\n",
    "inp[::-1]"
   ]
  },
  {
   "cell_type": "code",
   "execution_count": 35,
   "metadata": {},
   "outputs": [
    {
     "name": "stdout",
     "output_type": "stream",
     "text": [
      "w p\n",
      "k w\n",
      "e k\n",
      "w e\n",
      "e w\n",
      "['w', 'k', 'e']\n"
     ]
    }
   ],
   "source": [
    "lt = []\n",
    "for i in range(1,len(inp)):\n",
    "    if inp[i] != inp[i-1]:\n",
    "        #\n",
    "        print(inp[i],inp[i-1])\n",
    "        if inp[i] not in lt:\n",
    "            lt.append(inp[i])\n",
    "print(lt)    "
   ]
  },
  {
   "cell_type": "code",
   "execution_count": 17,
   "metadata": {
    "scrolled": true
   },
   "outputs": [
    {
     "data": {
      "text/plain": [
       "range(1, 6)"
      ]
     },
     "execution_count": 17,
     "metadata": {},
     "output_type": "execute_result"
    }
   ],
   "source": [
    "range(1,len(inp))"
   ]
  },
  {
   "cell_type": "code",
   "execution_count": 11,
   "metadata": {},
   "outputs": [
    {
     "name": "stdout",
     "output_type": "stream",
     "text": [
      "pwke\n"
     ]
    }
   ],
   "source": [
    "print(''.join(lt))"
   ]
  },
  {
   "cell_type": "code",
   "execution_count": 28,
   "metadata": {},
   "outputs": [],
   "source": [
    "inputs = \"MIT234537\""
   ]
  },
  {
   "cell_type": "code",
   "execution_count": 14,
   "metadata": {},
   "outputs": [
    {
     "data": {
      "text/plain": [
       "[2, 3, 4, 5, 3, 7]"
      ]
     },
     "execution_count": 14,
     "metadata": {},
     "output_type": "execute_result"
    }
   ],
   "source": [
    "[int(s) for s in inputs if s.isdigit()]"
   ]
  },
  {
   "cell_type": "code",
   "execution_count": 58,
   "metadata": {},
   "outputs": [
    {
     "name": "stdout",
     "output_type": "stream",
     "text": [
      "['2', '3', '4', '5', '3', '7']\n",
      "Not a palindrome!\n",
      "Actual Number is :0,reverse Number is :735432\n"
     ]
    }
   ],
   "source": [
    "lt = []\n",
    "for s in inputs:\n",
    "    #s = s.astype('int64')\n",
    "    if s.isdigit():\n",
    "        lt.append(s)\n",
    "print(lt)\n",
    "\n",
    "n =int(''.join(lt))\n",
    "\n",
    "temp=n\n",
    "rev=0\n",
    "while(n>0):\n",
    "    dig=n%10\n",
    "    rev=rev*10+dig\n",
    "    n=n//10\n",
    "if(temp==rev):\n",
    "    print(\"The number is palindrome!\")\n",
    "else:\n",
    "    print(\"Not a palindrome!\")\n",
    "    \n",
    "print(\"Actual Number is :\" +str(n)+\",\"+ \"reverse Number is :\"+str(rev))\n"
   ]
  },
  {
   "cell_type": "code",
   "execution_count": 76,
   "metadata": {},
   "outputs": [
    {
     "name": "stdout",
     "output_type": "stream",
     "text": [
      "Number of dogs in the Show is: %d\n",
      " 50\n"
     ]
    }
   ],
   "source": [
    "\n",
    "\n",
    "for men in range(1,100):\n",
    "    for dog in range(1,100):\n",
    "        \n",
    "        legs = 4*dog + 2*men\n",
    "        if((men+dog==100) & (legs==300)):\n",
    "            print(\"Number of dogs in the Show is: %d\\n\", dog)\n",
    "\n"
   ]
  },
  {
   "cell_type": "code",
   "execution_count": 77,
   "metadata": {},
   "outputs": [],
   "source": [
    "f=open(\"guru99.txt\",\"w+\")"
   ]
  },
  {
   "cell_type": "code",
   "execution_count": 78,
   "metadata": {},
   "outputs": [
    {
     "data": {
      "text/plain": [
       "'C:\\\\Users\\\\AP_2020\\\\Documents\\\\Python Scripts'"
      ]
     },
     "execution_count": 78,
     "metadata": {},
     "output_type": "execute_result"
    }
   ],
   "source": [
    "import os\n",
    "os.getcwd()"
   ]
  },
  {
   "cell_type": "code",
   "execution_count": 107,
   "metadata": {},
   "outputs": [],
   "source": [
    "with open(\"guru99_1.txt\",\"w+\") as f:\n",
    "    dic = {'FN':'Reddy','Age':'30'}\n",
    "    dic['Age']='50'\n",
    "    f.writelines(dic['FN'])\n",
    "    f.writelines(dic['Age'])\n",
    "with open(\"guru99_2.txt\",\"w+\") as f:\n",
    "    dic ={'M.Status':'Married','Children':'2'}\n",
    "    f.writelines(dic['M.Status'])\n",
    "    f.writelines(dic['Children'])\n"
   ]
  },
  {
   "cell_type": "code",
   "execution_count": 111,
   "metadata": {},
   "outputs": [],
   "source": [
    "with open('guru99_1.txt') as fp: \n",
    "    data = fp.read() \n",
    "with open('guru99_2.txt') as fp:\n",
    "    data_1 =fp.read()\n",
    "data += data_1\n",
    "\n",
    "with open('result.txt','w+') as fp:\n",
    "    fp.write(data)"
   ]
  },
  {
   "cell_type": "code",
   "execution_count": 112,
   "metadata": {},
   "outputs": [
    {
     "data": {
      "text/plain": [
       "'Reddy50Married2'"
      ]
     },
     "execution_count": 112,
     "metadata": {},
     "output_type": "execute_result"
    }
   ],
   "source": [
    "data"
   ]
  },
  {
   "cell_type": "code",
   "execution_count": 136,
   "metadata": {},
   "outputs": [
    {
     "name": "stdout",
     "output_type": "stream",
     "text": [
      "FN Reddy\n",
      "Age 50\n",
      "Married Yes\n"
     ]
    }
   ],
   "source": [
    "dic = {'FN':'Reddy','Age':'50','Married':'Yes'}\n",
    "with open('guru99_1.txt','w+') as fp:\n",
    "    for k,v in dic.items():\n",
    "        s= str(k)+\" \"+str(v)+\"\\n\"\n",
    "        fp.write(s)\n",
    "        print(k,v)\n",
    "    "
   ]
  },
  {
   "cell_type": "code",
   "execution_count": 38,
   "metadata": {},
   "outputs": [],
   "source": [
    "import csv\n",
    "dict ={'FN':['Reddy','Predeep'],'Age':'50','Married':'Yes'}\n",
    "dict.update({'ch':'2'})                                ## Update Dictionary ##\n",
    "#dict.pop('Age')                                        ## delete the key value ##\n",
    "dict.update( [('Studies','M.Tech'),('Location','Bangalure')] )\n",
    "w = csv.writer(open(\"output.csv\",\"w+\"))\n",
    "for key,val in dict.items():\n",
    "    w.writerow([key,val])"
   ]
  },
  {
   "cell_type": "code",
   "execution_count": 35,
   "metadata": {},
   "outputs": [],
   "source": [
    "dict1=dict"
   ]
  },
  {
   "cell_type": "code",
   "execution_count": 36,
   "metadata": {},
   "outputs": [
    {
     "data": {
      "text/plain": [
       "{'FN': ['Reddy', 'Predeep'],\n",
       " 'Married': 'Yes',\n",
       " 'ch': '2',\n",
       " 'Studies': 'M.Tech',\n",
       " 'Location': 'Bangalure'}"
      ]
     },
     "execution_count": 36,
     "metadata": {},
     "output_type": "execute_result"
    }
   ],
   "source": [
    "dict1"
   ]
  },
  {
   "cell_type": "code",
   "execution_count": 43,
   "metadata": {},
   "outputs": [
    {
     "data": {
      "text/plain": [
       "[('Age', '50')]"
      ]
     },
     "execution_count": 43,
     "metadata": {},
     "output_type": "execute_result"
    }
   ],
   "source": [
    "[(k,v) for (k,v) in dict.items() if (k,v) not in dict1.items()]"
   ]
  },
  {
   "cell_type": "code",
   "execution_count": 11,
   "metadata": {},
   "outputs": [
    {
     "name": "stdout",
     "output_type": "stream",
     "text": [
      "hello 2 vinodha\n"
     ]
    }
   ],
   "source": [
    "v1 = \"hello\"\n",
    "v2 = \"2\"\n",
    "v3=\"vinodha\"\n",
    "print('{} {} {}'.format(v1,v2,v3))"
   ]
  },
  {
   "cell_type": "code",
   "execution_count": 9,
   "metadata": {},
   "outputs": [
    {
     "name": "stdout",
     "output_type": "stream",
     "text": [
      "helloreddy\n"
     ]
    }
   ],
   "source": [
    "print('{}'.format(v1)+'reddy')"
   ]
  },
  {
   "cell_type": "code",
   "execution_count": 76,
   "metadata": {},
   "outputs": [],
   "source": [
    "l=[]\n",
    "n= 20\n",
    "for m in range(2,n):\n",
    "    if n%2 != 0:\n",
    "        print(n)\n"
   ]
  },
  {
   "cell_type": "code",
   "execution_count": 140,
   "metadata": {},
   "outputs": [],
   "source": [
    "if (2 % 3) == 0:\n",
    "    print(\"t\")"
   ]
  },
  {
   "cell_type": "markdown",
   "metadata": {},
   "source": [
    "### Task -12:\n",
    "#### Print all prime Numbers between 1 to 50 "
   ]
  },
  {
   "cell_type": "code",
   "execution_count": 2,
   "metadata": {
    "collapsed": true
   },
   "outputs": [
    {
     "name": "stdout",
     "output_type": "stream",
     "text": [
      "2\n",
      "3\n",
      "5\n",
      "7\n",
      "11\n",
      "13\n",
      "17\n",
      "19\n",
      "23\n",
      "29\n",
      "31\n",
      "37\n",
      "41\n",
      "43\n",
      "47\n",
      "Program Executed in 0.0010656400000002009\n"
     ]
    }
   ],
   "source": [
    "import timeit\n",
    "\n",
    "start = timeit.default_timer()\n",
    "\n",
    "for num in range(2,50):\n",
    "    for i in range(2,int(num)):\n",
    "        \n",
    "        if (num % i) == 0:\n",
    "            break#print(\"false\")\n",
    "    else:\n",
    "        print(num)\n",
    "\n",
    "        # All the program statements\n",
    "stop = timeit.default_timer()\n",
    "execution_time = stop - start\n",
    "\n",
    "print(\"Program Executed in \"+str(execution_time)) # It returns time in seconds"
   ]
  },
  {
   "cell_type": "code",
   "execution_count": 21,
   "metadata": {},
   "outputs": [],
   "source": [
    "#import timeit\n",
    "#\n",
    "#start = timeit.default_timer()\n",
    "#\n",
    "#\n",
    "#i=1\n",
    "#while i < 50:\n",
    "#    i =i+1\n",
    "#    for j in range(2,i):\n",
    "#        if i%j  == 0:\n",
    "#           # print(\"a\")\n",
    "#            break\n",
    "#    else:\n",
    "#        print(i)\n",
    "#\n",
    "## All the program statements\n",
    "#stop = timeit.default_timer()\n",
    "#execution_time = stop - start\n",
    "#\n",
    "#print(\"Program Executed in \"+str(execution_time)) # It returns time in seconds"
   ]
  },
  {
   "cell_type": "code",
   "execution_count": 74,
   "metadata": {
    "collapsed": true
   },
   "outputs": [
    {
     "name": "stdout",
     "output_type": "stream",
     "text": [
      "2\n",
      "3\n",
      "5\n",
      "7\n",
      "11\n",
      "13\n",
      "17\n",
      "19\n",
      "23\n",
      "29\n",
      "31\n",
      "37\n",
      "41\n",
      "43\n",
      "47\n",
      "Run time is : {0.0006101850003688014}\n"
     ]
    }
   ],
   "source": [
    "import timeit\n",
    "import time\n",
    "tic = time.perf_counter()  ### Performance time to calculate start time ##\n",
    "#print(tic)\n",
    "i=1\n",
    "while i < 50:\n",
    "    i =i+1\n",
    "    for j in range(2,i):\n",
    "        if i%j  == 0:\n",
    "           # print(\"a\")\n",
    "            break\n",
    "    else:\n",
    "        print(i)\n",
    "toc = time.perf_counter()   ### Performance time to calculate end time ##\n",
    "#print(toc)\n",
    "print(\"Run time is :\",{toc-tic})"
   ]
  },
  {
   "cell_type": "markdown",
   "metadata": {},
   "source": [
    "### Task - 13 "
   ]
  },
  {
   "cell_type": "code",
   "execution_count": 73,
   "metadata": {},
   "outputs": [
    {
     "name": "stdout",
     "output_type": "stream",
     "text": [
      "0\n",
      "[0, 12, 16]\n"
     ]
    }
   ],
   "source": [
    "#s=\"barfoothefoobarman\"\n",
    "#word = [\"foo\",\"bar\"]\n",
    "s = \"wordgoodgoodgoodbestword\"\n",
    "words = [\"word\",\"good\",\"best\",\"word\"]\n",
    "\n",
    "lt=[]\n",
    "for i in range(len(words)):\n",
    "    \n",
    "    if str(words[i-1]+words[i]) in s:\n",
    "        lt.append(s.index(words[i-1]+words[i]))\n",
    "    elif words[i] in s:\n",
    "        #print(words[i])\n",
    "        print(s.index(words[i]))\n",
    "print(lt)"
   ]
  },
  {
   "cell_type": "code",
   "execution_count": 10,
   "metadata": {},
   "outputs": [
    {
     "data": {
      "text/plain": [
       "1.1858335249999996"
      ]
     },
     "execution_count": 10,
     "metadata": {},
     "output_type": "execute_result"
    }
   ],
   "source": [
    "timeit.Timer('for i in range(10): oct(i)', 'gc.enable()').timeit()"
   ]
  },
  {
   "cell_type": "markdown",
   "metadata": {},
   "source": [
    "### Task - 14 :"
   ]
  },
  {
   "cell_type": "code",
   "execution_count": 175,
   "metadata": {},
   "outputs": [],
   "source": [
    "s=\"AAAABBBCCDAA\""
   ]
  },
  {
   "cell_type": "code",
   "execution_count": 166,
   "metadata": {},
   "outputs": [
    {
     "data": {
      "text/plain": [
       "dict_keys(['A', 'B', 'C', 'D'])"
      ]
     },
     "execution_count": 166,
     "metadata": {},
     "output_type": "execute_result"
    }
   ],
   "source": [
    "dic.keys()"
   ]
  },
  {
   "cell_type": "code",
   "execution_count": 163,
   "metadata": {},
   "outputs": [],
   "source": [
    "count = 1\n",
    "dic={}\n",
    "for i in range(1,len(s)):\n",
    "    \n",
    "    if s[i-1] == s[i]:\n",
    "        count = count +1\n",
    "        dic.update(dict(zip(s[i],[count])))\n",
    "    else:\n",
    "        count = 1\n",
    "        dic.update(dict(zip(s[i],[count])))"
   ]
  },
  {
   "cell_type": "code",
   "execution_count": 164,
   "metadata": {},
   "outputs": [
    {
     "data": {
      "text/plain": [
       "{'A': 4, 'B': 3, 'C': 2, 'D': 1}"
      ]
     },
     "execution_count": 164,
     "metadata": {},
     "output_type": "execute_result"
    }
   ],
   "source": [
    "dic"
   ]
  },
  {
   "cell_type": "code",
   "execution_count": 195,
   "metadata": {},
   "outputs": [],
   "source": [
    "def rle_encode(data):\n",
    "    encoding = ''\n",
    "    prev_char = ''\n",
    "    count = 1\n",
    "\n",
    "    if not data: return ''\n",
    "\n",
    "    for char in data:\n",
    "        # If the prev and current characters\n",
    "        # don't match...\n",
    "        if char != prev_char:\n",
    "            # ...then add the count and character\n",
    "            # to our encoding\n",
    "            if prev_char:\n",
    "                print(prev_char)\n",
    "                encoding += str(count) + prev_char\n",
    "            count = 1\n",
    "            prev_char = char\n",
    "        else:\n",
    "            # Or increment our counter\n",
    "            # if the characters do match\n",
    "            count += 1\n",
    "    else:\n",
    "        # Finish off the encoding\n",
    "        encoding += str(count) + prev_char\n",
    "        return encoding"
   ]
  },
  {
   "cell_type": "code",
   "execution_count": 196,
   "metadata": {},
   "outputs": [
    {
     "name": "stdout",
     "output_type": "stream",
     "text": [
      "A\n",
      "B\n",
      "C\n",
      "D\n"
     ]
    },
    {
     "data": {
      "text/plain": [
       "'4A3B2C1D2A'"
      ]
     },
     "execution_count": 196,
     "metadata": {},
     "output_type": "execute_result"
    }
   ],
   "source": [
    "rle_encode(\"AAAABBBCCDAA\")"
   ]
  },
  {
   "cell_type": "code",
   "execution_count": 192,
   "metadata": {
    "collapsed": true
   },
   "outputs": [
    {
     "ename": "SyntaxError",
     "evalue": "'return' outside function (<ipython-input-192-fa13d64a710d>, line 18)",
     "output_type": "error",
     "traceback": [
      "\u001b[1;36m  File \u001b[1;32m\"<ipython-input-192-fa13d64a710d>\"\u001b[1;36m, line \u001b[1;32m18\u001b[0m\n\u001b[1;33m    return encoded_string\u001b[0m\n\u001b[1;37m                         ^\u001b[0m\n\u001b[1;31mSyntaxError\u001b[0m\u001b[1;31m:\u001b[0m 'return' outside function\n"
     ]
    }
   ],
   "source": [
    "# importing the collections\n",
    "import collections\n",
    "# function\n",
    "def run_length_encoding(string):\n",
    "   # initialzing the count dict\n",
    "   count_dict = collections.OrderedDict.fromkeys(string, 0)\n",
    "   # iterating over the string\n",
    "   for char in string:\n",
    "      # incrementing the frequency\n",
    "      count_dict[char] += 1\n",
    "   # initializing the empty encoded string\n",
    "   encoded_string = \"\"\n",
    "   # joining all the chars and their frequencies\n",
    "   for key, value in count_dict.items():\n",
    "      # joining\n",
    "      encoded_string += key + str(value)\n",
    "      # printing the encoded string\n",
    "return encoded_string\n",
    "# initializing the strings\n",
    "string = \"tutorialspoint\"\n",
    "# invoking the function\n",
    "run_length_encoding(string)\n",
    "# another string\n",
    "string = \"aaaaaabbbbbccccccczzzzzz\"\n",
    "run_length_encoding(string)"
   ]
  },
  {
   "cell_type": "code",
   "execution_count": null,
   "metadata": {},
   "outputs": [],
   "source": [
    "run_length_encoding"
   ]
  },
  {
   "cell_type": "code",
   "execution_count": null,
   "metadata": {},
   "outputs": [],
   "source": []
  },
  {
   "cell_type": "code",
   "execution_count": null,
   "metadata": {},
   "outputs": [],
   "source": []
  },
  {
   "cell_type": "code",
   "execution_count": 167,
   "metadata": {},
   "outputs": [],
   "source": [
    "import itertools\n",
    "import re\n",
    "\n",
    "def encode(s: str) -> str:\n",
    "    return ''.join(str(len(list(group))) + c \n",
    "                   for c, group in itertools.groupby(s))\n",
    "\n",
    "REGEX = \"([0-9]+)([A-Za-z]+)\"\n",
    "\n",
    "def decode(s: str) -> str:\n",
    "    return ''.join(int(count) * char\n",
    "                   for count, char in re.findall(REGEX, s))"
   ]
  },
  {
   "cell_type": "code",
   "execution_count": 168,
   "metadata": {},
   "outputs": [
    {
     "data": {
      "text/plain": [
       "'4A3B2C1D2A'"
      ]
     },
     "execution_count": 168,
     "metadata": {},
     "output_type": "execute_result"
    }
   ],
   "source": [
    "encode(\"AAAABBBCCDAA\")"
   ]
  },
  {
   "cell_type": "code",
   "execution_count": 170,
   "metadata": {},
   "outputs": [
    {
     "data": {
      "text/plain": [
       "'AAAABBBCCDAA'"
      ]
     },
     "execution_count": 170,
     "metadata": {},
     "output_type": "execute_result"
    }
   ],
   "source": [
    "decode(\"4A3B2C1D2A\")"
   ]
  },
  {
   "cell_type": "code",
   "execution_count": null,
   "metadata": {},
   "outputs": [],
   "source": [
    "## Task -15"
   ]
  },
  {
   "cell_type": "code",
   "execution_count": 33,
   "metadata": {},
   "outputs": [],
   "source": [
    "a=[\"A\",\"s\",\"p\",\"R\",1,10,20]"
   ]
  },
  {
   "cell_type": "code",
   "execution_count": 62,
   "metadata": {},
   "outputs": [],
   "source": [
    "b=\"A\""
   ]
  },
  {
   "cell_type": "code",
   "execution_count": 63,
   "metadata": {},
   "outputs": [
    {
     "name": "stdout",
     "output_type": "stream",
     "text": [
      "<class 'str'>\n",
      "0\n"
     ]
    }
   ],
   "source": [
    "for i in range(len(a)):\n",
    "   # print(type(a[i]))\n",
    "    \n",
    "    if b == a[i]:\n",
    "        print(i)\n",
    "        break\n",
    "    elif i==len(a)-1:\n",
    "        print(\"not available\")"
   ]
  },
  {
   "cell_type": "code",
   "execution_count": 21,
   "metadata": {},
   "outputs": [],
   "source": [
    "## Task -16"
   ]
  },
  {
   "cell_type": "markdown",
   "metadata": {},
   "source": [
    "given s=\"ABCABCA\",then give an output as \"3A2B2C\""
   ]
  },
  {
   "cell_type": "code",
   "execution_count": 10,
   "metadata": {
    "collapsed": true
   },
   "outputs": [
    {
     "name": "stdout",
     "output_type": "stream",
     "text": [
      "2 A\n",
      "2 A\n",
      "2 A\n",
      "2 B\n",
      "2 B\n",
      "2 C\n",
      "2 C\n"
     ]
    }
   ],
   "source": [
    "lt =[]\n",
    "count =1\n",
    "for i in range(len(s)):\n",
    "    if s[i] not in lt:\n",
    "        lt.append(s[i])\n",
    "for j in range(len(lt)):\n",
    "    for i in range(len(s)):\n",
    "        if lt[j] == s[i]:\n",
    "            count = count + 1\n",
    "            print(count, s[i])\n",
    "        else:\n",
    "            count = 1\n",
    "            #pass"
   ]
  },
  {
   "cell_type": "code",
   "execution_count": 20,
   "metadata": {},
   "outputs": [],
   "source": [
    "#for c in s:\n",
    "#    count = s.count(c)\n",
    "#    print(count)\n",
    "#    if count > 1:\n",
    "#        print(c,count)\n",
    "#    else:\n",
    "#        break"
   ]
  },
  {
   "cell_type": "code",
   "execution_count": 19,
   "metadata": {},
   "outputs": [
    {
     "name": "stdout",
     "output_type": "stream",
     "text": [
      "A 3\n",
      "B 2\n",
      "C 2\n"
     ]
    }
   ],
   "source": [
    "lt=[]\n",
    "for c in s:\n",
    "    if c not in lt:\n",
    "        lt.append(c)\n",
    "\n",
    "for i in lt:\n",
    "    count= s.count(i)\n",
    "    if count > 1:\n",
    "        print(i,count)\n",
    "    "
   ]
  },
  {
   "cell_type": "code",
   "execution_count": 24,
   "metadata": {},
   "outputs": [
    {
     "data": {
      "text/plain": [
       "{'C': 2, 'A': 3, 'B': 2}"
      ]
     },
     "execution_count": 24,
     "metadata": {},
     "output_type": "execute_result"
    }
   ],
   "source": [
    "## Another Approach\n",
    "{c:s.count(c) for c in set(s)}"
   ]
  },
  {
   "cell_type": "code",
   "execution_count": 27,
   "metadata": {},
   "outputs": [
    {
     "data": {
      "text/plain": [
       "0"
      ]
     },
     "execution_count": 27,
     "metadata": {},
     "output_type": "execute_result"
    }
   ],
   "source": [
    "408%2"
   ]
  },
  {
   "cell_type": "markdown",
   "metadata": {},
   "source": [
    "### Task -15"
   ]
  },
  {
   "cell_type": "code",
   "execution_count": 31,
   "metadata": {},
   "outputs": [],
   "source": [
    "s=\"race\""
   ]
  },
  {
   "cell_type": "code",
   "execution_count": 32,
   "metadata": {},
   "outputs": [
    {
     "name": "stdout",
     "output_type": "stream",
     "text": [
      "ecarace\n",
      "ecarrace\n"
     ]
    }
   ],
   "source": [
    "for i in range(len(s)):\n",
    "    new = s[-(i+1):][::-1]+s\n",
    "    #print(new)\n",
    "    if new == new[::-1]:\n",
    "        print(new[::-1])\n"
   ]
  },
  {
   "cell_type": "code",
   "execution_count": 37,
   "metadata": {},
   "outputs": [],
   "source": [
    "given =[\"R\",\"G\",\"B\",\"R\",\"G\",\"R\"]"
   ]
  },
  {
   "cell_type": "code",
   "execution_count": 55,
   "metadata": {},
   "outputs": [
    {
     "name": "stdout",
     "output_type": "stream",
     "text": [
      "['RRR']\n",
      "['GG']\n",
      "['B']\n",
      "['RRR']\n",
      "['GG']\n",
      "['RRR']\n"
     ]
    }
   ],
   "source": [
    "lt = []\n",
    "for c in given:\n",
    "    print((given.count(c)*(c)).split(','))\n",
    "    "
   ]
  },
  {
   "cell_type": "code",
   "execution_count": 50,
   "metadata": {},
   "outputs": [
    {
     "data": {
      "text/plain": [
       "[['R', 'R', 'R'],\n",
       " ['G', 'G'],\n",
       " ['B'],\n",
       " ['R', 'R', 'R'],\n",
       " ['G', 'G'],\n",
       " ['R', 'R', 'R']]"
      ]
     },
     "execution_count": 50,
     "metadata": {},
     "output_type": "execute_result"
    }
   ],
   "source": [
    "[given.count(c)*(c).split(',') for c in given]"
   ]
  },
  {
   "cell_type": "code",
   "execution_count": 45,
   "metadata": {},
   "outputs": [
    {
     "data": {
      "text/plain": [
       "['RRR', 'GG', 'B', 'RRR', 'GG', 'RRR']"
      ]
     },
     "execution_count": 45,
     "metadata": {},
     "output_type": "execute_result"
    }
   ],
   "source": [
    "lt"
   ]
  },
  {
   "cell_type": "markdown",
   "metadata": {},
   "source": [
    "### Task - 16"
   ]
  },
  {
   "cell_type": "code",
   "execution_count": 4,
   "metadata": {},
   "outputs": [
    {
     "name": "stdout",
     "output_type": "stream",
     "text": [
      "0 0 1 0 \n",
      "1 0 0 0 \n",
      "0 0 0 1 \n",
      "0 1 0 0 \n"
     ]
    },
    {
     "data": {
      "text/plain": [
       "True"
      ]
     },
     "execution_count": 4,
     "metadata": {},
     "output_type": "execute_result"
    }
   ],
   "source": [
    "N =4\n",
    "ld = [0]*30\n",
    "rd = [0]*30\n",
    "cl = [0]*30\n",
    "\n",
    "def printSolution(board):  \n",
    "    for i in range(N): \n",
    "        for j in range(N): \n",
    "            print(board[i][j], end = \" \") \n",
    "        print()\n",
    "\n",
    "def solveNQUtil(board, col):  \n",
    "    #print(col)\n",
    "    \"\"\" base case: If all queens are placed \n",
    "        then return True \"\"\"\n",
    "    if (col >= N):\n",
    "        \n",
    "        return True\n",
    "          \n",
    "    \"\"\" Consider this column and try placing \n",
    "        this queen in all rows one by one \"\"\"\n",
    "    for i in range(N): \n",
    "          \n",
    "        \"\"\" Check if the queen can be placed on board[i][col] \"\"\"\n",
    "        \"\"\" A check if a queen can be placed on board[row][col]. \n",
    "        We just need to check ld[row-col+n-1] and rd[row+coln]  \n",
    "        where ld and rd are for left and right diagonal respectively\"\"\"\n",
    "        if ((ld[i - col + N - 1] != 1 and \n",
    "             rd[i + col] != 1) and cl[i] != 1): \n",
    "                   \n",
    "            \"\"\" Place this queen in board[i][col] \"\"\"\n",
    "            board[i][col] = 1\n",
    "            ld[i - col + N - 1] = rd[i + col] = cl[i] = 1\n",
    "              \n",
    "            \"\"\" recur to place rest of the queens \"\"\"\n",
    "            if (solveNQUtil(board, col + 1)): \n",
    "                return True\n",
    "                  \n",
    "            \"\"\" If placing queen in board[i][col]  \n",
    "            doesn't lead to a solution,  \n",
    "            then remove queen from board[i][col] \"\"\"\n",
    "            board[i][col] = 0 # BACKTRACK  \n",
    "            ld[i - col + N - 1] = rd[i + col] = cl[i] = 0\n",
    "              \n",
    "            \"\"\" If the queen cannot be placed in \n",
    "            any row in this colum col then return False \"\"\"\n",
    "    return False\n",
    "      \n",
    "\"\"\" This function solves the N Queen problem using  \n",
    "Backtracking. It mainly uses solveNQUtil() to  \n",
    "solve the problem. It returns False if queens  \n",
    "cannot be placed, otherwise, return True and  \n",
    "prints placement of queens in the form of 1s.  \n",
    "Please note that there may be more than one  \n",
    "solutions, this function prints one of the  \n",
    "feasible solutions.\"\"\"\n",
    "def solveNQ(): \n",
    "    board = [[0, 0, 0, 0],  \n",
    "             [0, 0, 0, 0], \n",
    "             [0, 0, 0, 0], \n",
    "             [0, 0, 0, 0]] \n",
    "    if (solveNQUtil(board, 0) == False): \n",
    "        print(\"Solution does not exist\") \n",
    "        return False\n",
    "    printSolution(board) \n",
    "    return True\n",
    "      \n",
    "# Driver Code \n",
    "solveNQ() "
   ]
  },
  {
   "cell_type": "code",
   "execution_count": 8,
   "metadata": {},
   "outputs": [],
   "source": [
    "N =4\n",
    "ld = [0]*30\n",
    "rd = [0]*30\n",
    "cl = [0]*30"
   ]
  },
  {
   "cell_type": "code",
   "execution_count": 21,
   "metadata": {},
   "outputs": [],
   "source": [
    "def solveNQUtil(board, col):  \n",
    "    #print(col)\n",
    "    \"\"\" base case: If all queens are placed \n",
    "        then return True \"\"\"\n",
    "    if (col >= N):\n",
    "        \n",
    "        return True\n",
    "        \n",
    "    \"\"\" Consider this column and try placing \n",
    "        this queen in all rows one by one \"\"\"\n",
    "    print(col)\n",
    "    for i in range(N): \n",
    "          \n",
    "        \"\"\" Check if the queen can be placed on board[i][col] \"\"\"\n",
    "        \"\"\" A check if a queen can be placed on board[row][col]. \n",
    "        We just need to check ld[row-col+n-1] and rd[row+coln]  \n",
    "        where ld and rd are for left and right diagonal respectively\"\"\"\n",
    "        print(ld[i - col + N - 1])\n",
    "        if ((ld[i - col + N - 1] != 1 and \n",
    "             rd[i + col] != 1) and cl[i] != 1): \n",
    "                   \n",
    "            \"\"\" Place this queen in board[i][col] \"\"\"\n",
    "            board[i][col] = 1\n",
    "            ld[i - col + N - 1] = rd[i + col] = cl[i] = 1\n",
    "              \n",
    "            \"\"\" recur to place rest of the queens \"\"\"\n",
    "            if (solveNQUtil(board, col + 1)): \n",
    "                return True\n",
    "                  \n",
    "            \"\"\" If placing queen in board[i][col]  \n",
    "            doesn't lead to a solution,  \n",
    "            then remove queen from board[i][col] \"\"\"\n",
    "            board[i][col] = 0 # BACKTRACK  \n",
    "            ld[i - col + N - 1] = rd[i + col] = cl[i] = 0\n",
    "              \n",
    "            \"\"\" If the queen cannot be placed in \n",
    "            any row in this colum col then return False \"\"\"\n",
    "    return False\n"
   ]
  },
  {
   "cell_type": "code",
   "execution_count": 15,
   "metadata": {},
   "outputs": [],
   "source": [
    "board[0][0]=1"
   ]
  },
  {
   "cell_type": "code",
   "execution_count": 22,
   "metadata": {},
   "outputs": [
    {
     "name": "stdout",
     "output_type": "stream",
     "text": [
      "0\n",
      "0\n",
      "1\n",
      "1\n",
      "0\n"
     ]
    },
    {
     "data": {
      "text/plain": [
       "False"
      ]
     },
     "execution_count": 22,
     "metadata": {},
     "output_type": "execute_result"
    }
   ],
   "source": [
    "solveNQUtil(board, col)"
   ]
  },
  {
   "cell_type": "code",
   "execution_count": 13,
   "metadata": {},
   "outputs": [],
   "source": [
    "board =[[0,0,0,0],\n",
    "       [0,0,0,0],\n",
    "       [0,0,0,0],\n",
    "       [0,0,0,0]]\n",
    "col=0"
   ]
  },
  {
   "cell_type": "code",
   "execution_count": null,
   "metadata": {},
   "outputs": [],
   "source": []
  },
  {
   "cell_type": "code",
   "execution_count": 20,
   "metadata": {},
   "outputs": [
    {
     "name": "stdout",
     "output_type": "stream",
     "text": [
      "1 -\n",
      "\n",
      "0 0 1 0 \n",
      "\n",
      "1 0 0 0 \n",
      "\n",
      "0 0 0 1 \n",
      "\n",
      "0 1 0 0 \n",
      "\n",
      "\n",
      "\n",
      "2 -\n",
      "\n",
      "0 1 0 0 \n",
      "\n",
      "0 0 0 1 \n",
      "\n",
      "1 0 0 0 \n",
      "\n",
      "0 0 1 0 \n",
      "\n",
      "\n",
      "\n"
     ]
    }
   ],
   "source": [
    "k = 1\n",
    "  \n",
    "# A utility function to print solution  \n",
    "def printSolution(board):  \n",
    "  \n",
    "    global k \n",
    "    print(k, \"-\\n\") \n",
    "    k = k + 1\n",
    "    for i in range(4):  \n",
    "        for j in range(4): \n",
    "            print(board[i][j], end = \" \") \n",
    "        print(\"\\n\") \n",
    "    print(\"\\n\")  \n",
    "  \n",
    "''' A utility function to check if a queen can  \n",
    "be placed on board[row][col]. Note that this  \n",
    "function is called when \"col\" queens are  \n",
    "already placed in columns from 0 to col -1.  \n",
    "So we need to check only left side for  \n",
    "attacking queens '''\n",
    "def isSafe(board, row, col) : \n",
    "      \n",
    "    # Check this row on left side  \n",
    "    for i in range(col):  \n",
    "        if (board[row][i]):  \n",
    "            return False\n",
    "  \n",
    "    # Check upper diagonal on left side  \n",
    "    i = row \n",
    "    j = col \n",
    "    while i >= 0 and j >= 0: \n",
    "        if(board[i][j]): \n",
    "            return False; \n",
    "        i -= 1\n",
    "        j -= 1\n",
    "  \n",
    "    # Check lower diagonal on left side  \n",
    "    i = row \n",
    "    j = col \n",
    "    while j >= 0 and i < 4: \n",
    "        if(board[i][j]): \n",
    "            return False\n",
    "        i = i + 1\n",
    "        j = j - 1\n",
    "  \n",
    "    return True\n",
    "  \n",
    "''' A recursive utility function to solve N  \n",
    "Queen problem '''\n",
    "def solveNQUtil(board, col) : \n",
    "      \n",
    "    ''' base case: If all queens are placed  \n",
    "    then return true '''\n",
    "    if (col == 4):  \n",
    "        printSolution(board)  \n",
    "        return True\n",
    "  \n",
    "    ''' Consider this column and try placing  \n",
    "    this queen in all rows one by one '''\n",
    "    res = False\n",
    "    for i in range(4): \n",
    "      \n",
    "        ''' Check if queen can be placed on  \n",
    "        board[i][col] '''\n",
    "        if (isSafe(board, i, col)):  \n",
    "          \n",
    "            # Place this queen in board[i][col]  \n",
    "            board[i][col] = 1;  \n",
    "  \n",
    "            # Make result true if any placement  \n",
    "            # is possible  \n",
    "            res = solveNQUtil(board, col + 1) or res;  \n",
    "  \n",
    "            ''' If placing queen in board[i][col]  \n",
    "            doesn't lead to a solution, then  \n",
    "            remove queen from board[i][col] '''\n",
    "            board[i][col] = 0 # BACKTRACK  \n",
    "          \n",
    "    ''' If queen can not be place in any row in  \n",
    "        this column col then return false '''\n",
    "    return res \n",
    "  \n",
    "''' This function solves the N Queen problem using  \n",
    "Backtracking. It mainly uses solveNQUtil() to  \n",
    "solve the problem. It returns false if queens  \n",
    "cannot be placed, otherwise return true and  \n",
    "prints placement of queens in the form of 1s.  \n",
    "Please note that there may be more than one  \n",
    "solutions, this function prints one of the  \n",
    "feasible solutions.'''\n",
    "def solveNQ() : \n",
    "  \n",
    "    board = [[0 for j in range(10)]  \n",
    "                for i in range(10)] \n",
    "  \n",
    "    if (solveNQUtil(board, 0) == False):  \n",
    "      \n",
    "        print(\"Solution does not exist\")  \n",
    "        return\n",
    "    return\n",
    "  \n",
    "# Driver Code  \n",
    "solveNQ()  "
   ]
  },
  {
   "cell_type": "markdown",
   "metadata": {},
   "source": [
    "## Task - 17"
   ]
  },
  {
   "cell_type": "markdown",
   "metadata": {},
   "source": [
    "Take an input value and print that values in diagonal of matrix and keep all other elements in matrix as zeros"
   ]
  },
  {
   "cell_type": "code",
   "execution_count": 2,
   "metadata": {},
   "outputs": [
    {
     "name": "stdout",
     "output_type": "stream",
     "text": [
      "[1, 2, 3]\n",
      "\n",
      "\n",
      "diagnoal matrix is  \n",
      " [[1 0 0]\n",
      " [0 2 0]\n",
      " [0 0 3]]\n",
      "[[1. 0. 0.]\n",
      " [0. 2. 0.]\n",
      " [0. 0. 3.]]\n"
     ]
    }
   ],
   "source": [
    "\n",
    "a=\"123\"\n",
    "lt=[]\n",
    "for i in range(len(a)):\n",
    "    lt.append(int(a[i]))\n",
    "print(lt)\n",
    "print(\"\\n\")\n",
    "print(\"diagnoal matrix is \",\"\\n\" , np.diag(lt))  ## this is direct method ##\n",
    "\n",
    "#mat=np.full([len(lt),len(lt)],lt)  ### Create a matrix with filled values ##\n",
    "#\n",
    "#for i in range(len(np.diag(lt))):         ### print only diagonal values of matrix in matrix format , using two matrixes(mat1,mat) ##\n",
    "#    for j in range(len(np.diag(lt))):\n",
    "#        if(i==j):\n",
    "#            mat1[i][j]=mat[i][j]\n",
    "#print(mat1)\n",
    "            \n",
    "mat1=np.zeros([len(lt),len(lt)])\n",
    "for i in range(len(lt)):          ### print only diagonal values of matrix in matrix format , using one matrixes & list of elements (easy method uses less memory)##\n",
    "    for j in range(len(lt)):\n",
    "        if(i==j):\n",
    "            mat1[i][j]=lt[i]\n",
    "print(mat1)"
   ]
  },
  {
   "cell_type": "code",
   "execution_count": 2,
   "metadata": {},
   "outputs": [
    {
     "name": "stdout",
     "output_type": "stream",
     "text": [
      "[[ 10.   0.   0.   0.]\n",
      " [  0. 111.   0.   0.]\n",
      " [  0.   0.  12.   0.]\n",
      " [  0.   0.   0.  13.]]\n"
     ]
    }
   ],
   "source": [
    "lt=[10,111,12,13]\n",
    "mat1=np.zeros([len(lt),len(lt)])\n",
    "for i in range(len(lt)):          ### print only diagonal values of matrix in matrix format , using one matrixes & list of elements (easy method uses less memory)##\n",
    "    for j in range(len(lt)):\n",
    "        if(i==j):\n",
    "            mat1[i][j]=lt[i]\n",
    "print(mat1)"
   ]
  },
  {
   "cell_type": "code",
   "execution_count": 8,
   "metadata": {},
   "outputs": [],
   "source": [
    "\n",
    "#for i in range(len(lt)):\n",
    "#    for j in range(len(lt)):\n",
    "#        if str(lt[i]) not in str(mat1[i][j]):\n",
    "#            mat1[i][j]=lt[i]\n",
    "#print(mat1)"
   ]
  },
  {
   "cell_type": "code",
   "execution_count": 44,
   "metadata": {},
   "outputs": [],
   "source": [
    "## Print the numbers in columns \n",
    "def update_column(lt,i):\n",
    "    mat1 = np.zeros([len(lt),len(lt)])\n",
    "    for j in range(len(lt)):\n",
    "        mat1[i][j]=lt[j]\n",
    "    return mat1"
   ]
  },
  {
   "cell_type": "code",
   "execution_count": 45,
   "metadata": {},
   "outputs": [
    {
     "data": {
      "text/plain": [
       "array([[ 10., -11.,  13.,  14., -15.],\n",
       "       [  0.,   0.,   0.,   0.,   0.],\n",
       "       [  0.,   0.,   0.,   0.,   0.],\n",
       "       [  0.,   0.,   0.,   0.,   0.],\n",
       "       [  0.,   0.,   0.,   0.,   0.]])"
      ]
     },
     "execution_count": 45,
     "metadata": {},
     "output_type": "execute_result"
    }
   ],
   "source": [
    "update_column([10,-11,13,14,-15],i=0)"
   ]
  },
  {
   "cell_type": "code",
   "execution_count": 52,
   "metadata": {},
   "outputs": [],
   "source": [
    "def update_column(lt,k):\n",
    "    mat1 = np.zeros([len(lt),len(lt)])\n",
    "    for j in range(len(lt)):\n",
    "        mat1[k][j]=lt[j]\n",
    "    for i in range(len(lt)):\n",
    "        mat1[i][k]=lt[i]\n",
    "    for i in range(len(lt)):\n",
    "        for j in range(len(lt)):\n",
    "             if i == j:\n",
    "                mat1[i][j]=lt[i]\n",
    "    return mat1"
   ]
  },
  {
   "cell_type": "code",
   "execution_count": 53,
   "metadata": {},
   "outputs": [
    {
     "data": {
      "text/plain": [
       "array([[ 10., -11.,  13.,  14., -15.],\n",
       "       [-11., -11.,   0.,   0.,   0.],\n",
       "       [ 13.,   0.,  13.,   0.,   0.],\n",
       "       [ 14.,   0.,   0.,  14.,   0.],\n",
       "       [-15.,   0.,   0.,   0., -15.]])"
      ]
     },
     "execution_count": 53,
     "metadata": {},
     "output_type": "execute_result"
    }
   ],
   "source": [
    "update_column([10,-11,13,14,-15],k=0)"
   ]
  },
  {
   "cell_type": "markdown",
   "metadata": {},
   "source": [
    "## Optimised method for above problem"
   ]
  },
  {
   "cell_type": "code",
   "execution_count": 17,
   "metadata": {},
   "outputs": [
    {
     "name": "stdout",
     "output_type": "stream",
     "text": [
      "0 0\n",
      "1 1\n",
      "2 2\n",
      "3 3\n",
      "[[ 10. 111.  12.  13.]\n",
      " [111. 111.   0.   0.]\n",
      " [ 12.   0.  12.   0.]\n",
      " [ 13.   0.   0.  13.]]\n"
     ]
    }
   ],
   "source": [
    "mat1 = np.zeros([len(lt),len(lt)])\n",
    "i=0\n",
    "j=0\n",
    "k=0\n",
    "while i<len(lt) and j< len(lt):\n",
    "\n",
    "    if j < len(lt):\n",
    "        mat1[k][j]=lt[j]\n",
    "        j = j+1\n",
    "    if i < len(lt):\n",
    "        mat1[i][k]=lt[i]\n",
    "        i = i+1\n",
    "    if i==j:\n",
    "        mat1[i-1][j-1]=lt[i-1]\n",
    "print(mat1)\n",
    "    "
   ]
  },
  {
   "cell_type": "markdown",
   "metadata": {},
   "source": [
    "## Task -20:"
   ]
  },
  {
   "cell_type": "markdown",
   "metadata": {},
   "source": [
    "Given an array of numbers, find the maximum sum of any contiguous subarray of the array.\n",
    "\n",
    "For example, given the array [34, -50, 42, 14, -5, 86], the maximum sum would be 137"
   ]
  },
  {
   "cell_type": "code",
   "execution_count": 43,
   "metadata": {
    "scrolled": true
   },
   "outputs": [],
   "source": [
    "#from sys import maxint \n",
    "a=[34, -50, 42, 14, -5, 86,10]\n",
    "def maxSubArraySum(a, size): \n",
    "      \n",
    "    max_so_far = 0\n",
    "    max_ending_here = 0\n",
    "      \n",
    "    for i in range(0, size): \n",
    "        max_ending_here = max_ending_here + a[i] \n",
    "        if max_ending_here < 0: \n",
    "            max_ending_here = 0\n",
    "          \n",
    "        # Do not compare for all elements. Compare only    \n",
    "        # when  max_ending_here > 0 \n",
    "        elif (max_so_far < max_ending_here): \n",
    "            max_so_far = max_ending_here \n",
    "              \n",
    "    return max_so_far "
   ]
  },
  {
   "cell_type": "code",
   "execution_count": 44,
   "metadata": {},
   "outputs": [
    {
     "data": {
      "text/plain": [
       "147"
      ]
     },
     "execution_count": 44,
     "metadata": {},
     "output_type": "execute_result"
    }
   ],
   "source": [
    "maxSubArraySum(a,len(a))"
   ]
  },
  {
   "cell_type": "code",
   "execution_count": 50,
   "metadata": {},
   "outputs": [
    {
     "data": {
      "text/plain": [
       "[[1, 4], [2, 5]]"
      ]
     },
     "execution_count": 50,
     "metadata": {},
     "output_type": "execute_result"
    }
   ],
   "source": [
    "matrix= [[1,2,3],\n",
    "        [4,5,6]]\n",
    "\n",
    "[[row[i] for row in matrix] for i in range(len(matrix))]"
   ]
  },
  {
   "cell_type": "code",
   "execution_count": 51,
   "metadata": {},
   "outputs": [
    {
     "data": {
      "text/plain": [
       "range(0, 2)"
      ]
     },
     "execution_count": 51,
     "metadata": {},
     "output_type": "execute_result"
    }
   ],
   "source": [
    "range(len(matrix))"
   ]
  },
  {
   "cell_type": "code",
   "execution_count": 54,
   "metadata": {},
   "outputs": [
    {
     "data": {
      "text/plain": [
       "array([1, 2, 4, 0, 2, 0])"
      ]
     },
     "execution_count": 54,
     "metadata": {},
     "output_type": "execute_result"
    }
   ],
   "source": [
    "random.randint(0,5,size=6)"
   ]
  },
  {
   "cell_type": "code",
   "execution_count": 73,
   "metadata": {},
   "outputs": [],
   "source": [
    "def rand(n):\n",
    "    for i in range(1,n+1):\n",
    "        print(i)"
   ]
  },
  {
   "cell_type": "code",
   "execution_count": 74,
   "metadata": {},
   "outputs": [
    {
     "name": "stdout",
     "output_type": "stream",
     "text": [
      "1\n",
      "2\n",
      "3\n",
      "4\n",
      "5\n"
     ]
    }
   ],
   "source": [
    "rand(5)"
   ]
  },
  {
   "cell_type": "code",
   "execution_count": 3,
   "metadata": {
    "collapsed": true
   },
   "outputs": [
    {
     "name": "stdout",
     "output_type": "stream",
     "text": [
      "1 ~ 14.263 %\n",
      "2 ~ 14.2201 %\n",
      "3 ~ 14.3185 %\n",
      "4 ~ 14.336 %\n",
      "5 ~ 14.2251 %\n",
      "6 ~ 14.2571 %\n",
      "7 ~ 14.3802 %\n"
     ]
    }
   ],
   "source": [
    "from random import randint\n",
    "# Function to generate a random number from 1 to 7 with equal probability\n",
    "# by using the specified function\n",
    "def generate():\n",
    "\n",
    "    while True:\n",
    "        x = randint(1, 5)\n",
    "        y = randint(1, 5)\n",
    "\n",
    "        r = 5 * (x - 1) + y\n",
    "        if r <= 7:\n",
    "            break\n",
    "\n",
    "    return r\n",
    "\n",
    "\n",
    "if __name__ == '__main__':\n",
    "\n",
    "    # count list to validate the results\n",
    "    count = [0] * 8\n",
    "\n",
    "    # make 1000000 calls to the generate() function and store the results\n",
    "    for i in range(1000000):\n",
    "        val = generate()\n",
    "        count[val] = count[val] + 1\n",
    "\n",
    "    # print the results\n",
    "    for i in range(1, 8):\n",
    "        print(i, \"~\", (count[i] / 10000), \"%\")\n"
   ]
  },
  {
   "cell_type": "code",
   "execution_count": 26,
   "metadata": {},
   "outputs": [
    {
     "name": "stdout",
     "output_type": "stream",
     "text": [
      "4\n"
     ]
    }
   ],
   "source": [
    "while True:\n",
    "    x= randint(1,5)\n",
    "    y= randint(1,5)\n",
    "\n",
    "    r= 5*(x-1)+y\n",
    "    if r <= 7:\n",
    "\n",
    "        break\n",
    "print(r)"
   ]
  },
  {
   "cell_type": "code",
   "execution_count": 165,
   "metadata": {},
   "outputs": [
    {
     "name": "stdout",
     "output_type": "stream",
     "text": [
      "true\n",
      "True\n",
      "3\n"
     ]
    }
   ],
   "source": [
    "#lt=list((1,2,3,4))\n",
    "dic ={1:1,2:2}\n",
    "\n",
    "if 1 in dic.keys():\n",
    "    print(\"true\")\n",
    "    \n",
    "#dic.update({3:3})\n",
    "for i in range(1,len(dic)):\n",
    "    \n",
    "    if 1 in dic.keys():\n",
    "        print(\"True\")\n",
    "    else:\n",
    "        print(\"False\")\n",
    "    \n",
    "    k=i+1\n",
    "    l=i\n",
    "    dic[k]=3\n",
    "    print(dic[k])\n"
   ]
  },
  {
   "cell_type": "code",
   "execution_count": 14,
   "metadata": {},
   "outputs": [],
   "source": [
    "dic ={1:1,2:2}\n",
    "def LRU_Cahe(j,n):\n",
    "    for i in range(1,len(dic)):\n",
    "        if j in dic.values():\n",
    "            print(\"True\")\n",
    "        else:\n",
    "            print(\"False\")\n",
    "           \n",
    "        k = i+1\n",
    "        l = i\n",
    "        dic[k]=n\n",
    "        if k>l:\n",
    "            k=i\n",
    "            l=i+1\n",
    "        return dic\n",
    "        "
   ]
  },
  {
   "cell_type": "code",
   "execution_count": null,
   "metadata": {},
   "outputs": [],
   "source": [
    "### "
   ]
  },
  {
   "cell_type": "code",
   "execution_count": 3,
   "metadata": {},
   "outputs": [],
   "source": [
    "import random\n",
    "from random import random, randint"
   ]
  },
  {
   "cell_type": "code",
   "execution_count": 11,
   "metadata": {},
   "outputs": [
    {
     "data": {
      "text/plain": [
       "1"
      ]
     },
     "execution_count": 11,
     "metadata": {},
     "output_type": "execute_result"
    }
   ],
   "source": [
    "a=randint(0,1)\n",
    "a"
   ]
  },
  {
   "cell_type": "code",
   "execution_count": null,
   "metadata": {},
   "outputs": [],
   "source": []
  },
  {
   "cell_type": "code",
   "execution_count": null,
   "metadata": {},
   "outputs": [],
   "source": []
  },
  {
   "cell_type": "code",
   "execution_count": null,
   "metadata": {},
   "outputs": [],
   "source": []
  },
  {
   "cell_type": "code",
   "execution_count": null,
   "metadata": {},
   "outputs": [],
   "source": [
    "## Linkedin "
   ]
  },
  {
   "cell_type": "code",
   "execution_count": 184,
   "metadata": {},
   "outputs": [],
   "source": [
    "subdirectories = {\"Documents\":['.rtf','.pdf','.txt'],\n",
    "                 \"Audio\":['.mp3','.mp4'],\n",
    "                 \"videos\":['.mov','avi','.mp4'],\n",
    "                 \"images\":['.jpg','.jpeg','.png']}"
   ]
  },
  {
   "cell_type": "code",
   "execution_count": 192,
   "metadata": {},
   "outputs": [
    {
     "name": "stdout",
     "output_type": "stream",
     "text": [
      "videos\n"
     ]
    }
   ],
   "source": [
    "# pick the directory name from corresponding file type\n",
    "def pick_directiory(value):\n",
    "    for cate,suffixes in subdirectories.items():\n",
    "        for exten in suffixes:\n",
    "            if exten == value:\n",
    "                return cate\n",
    "    return 'MISC'\n",
    "print(pick_directiory('.mov'))\n",
    "        "
   ]
  },
  {
   "cell_type": "code",
   "execution_count": null,
   "metadata": {},
   "outputs": [],
   "source": [
    "def organize_dir():\n",
    "    for item in os.scandir():\n",
    "        if item.is_dir():\n",
    "            continue\n",
    "        filepath = path(item)\n",
    "        filetype =filepath.suffix.lower()\n",
    "        directory = pick_directory(filetype)\n",
    "        directorypath = path(directory)\n",
    "        if directorypath.is_dir()!= True:\n",
    "            directorypath.mkdir()\n",
    "            \n",
    "        filepath.rename(directorypath.joinpath(filepath))"
   ]
  },
  {
   "cell_type": "markdown",
   "metadata": {},
   "source": [
    "## Task -21:\n"
   ]
  },
  {
   "cell_type": "code",
   "execution_count": 39,
   "metadata": {},
   "outputs": [
    {
     "name": "stdout",
     "output_type": "stream",
     "text": [
      "we can form in descending order\n"
     ]
    }
   ],
   "source": [
    "nums = [4,2,3,5]\n",
    "count = 0\n",
    "lt=[]\n",
    "for i in range(1,len(nums)):\n",
    "    if nums[i] < nums[i-1]:\n",
    "        count = count+1\n",
    "        lt.append(count)\n",
    "#print(max(lt))       \n",
    "if max(lt) > 1:\n",
    "    \n",
    "    print(\"we can not form in descending order\")\n",
    "else :\n",
    "    print(\"we can form in descending order\")\n",
    "        "
   ]
  },
  {
   "cell_type": "code",
   "execution_count": 37,
   "metadata": {},
   "outputs": [],
   "source": [
    "class sol:\n",
    "    def desce(nums,count):\n",
    "        lt=[]\n",
    "        for i in range(1,len(nums)):\n",
    "            if nums[i] < nums[i-1]:\n",
    "                count = count+1\n",
    "                lt.append(count)\n",
    "        if max(lt) > 1:\n",
    "            print(\"we can not form in descending order\")\n",
    "        else:\n",
    "            print(\"we can form in descending order\") \n",
    "        "
   ]
  },
  {
   "cell_type": "code",
   "execution_count": 48,
   "metadata": {},
   "outputs": [
    {
     "name": "stdout",
     "output_type": "stream",
     "text": [
      "we can form in descending order\n",
      "we can form in descending order\n"
     ]
    }
   ],
   "source": [
    "sol.desce([10, 5, 7],0)\n",
    "sol.desce([10, 5, 9],0)"
   ]
  },
  {
   "cell_type": "code",
   "execution_count": 56,
   "metadata": {},
   "outputs": [],
   "source": [
    "\n",
    "#nums.sort()"
   ]
  },
  {
   "cell_type": "code",
   "execution_count": 61,
   "metadata": {},
   "outputs": [],
   "source": [
    "nums = [10,5,9,1]\n",
    "for i in range(1,len(nums)):\n",
    "    if nums[i]> nums[i-1]:\n",
    "        nums[i-1] = nums[i-1]\n",
    "    else:\n",
    "        t= nums[i-1]\n",
    "        #print(t)\n",
    "        nums[i-1]=nums[i]  \n",
    "        nums[i]=t\n",
    "    "
   ]
  },
  {
   "cell_type": "code",
   "execution_count": 69,
   "metadata": {},
   "outputs": [
    {
     "data": {
      "text/plain": [
       "4"
      ]
     },
     "execution_count": 69,
     "metadata": {},
     "output_type": "execute_result"
    }
   ],
   "source": [
    "len(nums)"
   ]
  },
  {
   "cell_type": "code",
   "execution_count": 79,
   "metadata": {},
   "outputs": [],
   "source": [
    "nums = [10,5,9,1,-1,-10,0]\n",
    "\n",
    "for i in range(len(nums)):\n",
    "    for j in range(i+1,len(nums)):\n",
    "        if nums[j] >= nums[i]:             # 5,10,9,1  1,10,9,5\n",
    "            nums[i] = nums[i]\n",
    "            \n",
    "        else:\n",
    "            t= nums[i]\n",
    "            nums[i] = nums[j]\n",
    "            nums[j]=t\n",
    "    j=j+1"
   ]
  },
  {
   "cell_type": "code",
   "execution_count": 80,
   "metadata": {},
   "outputs": [
    {
     "data": {
      "text/plain": [
       "[-10, -1, 0, 1, 5, 9, 10]"
      ]
     },
     "execution_count": 80,
     "metadata": {},
     "output_type": "execute_result"
    }
   ],
   "source": [
    "nums"
   ]
  },
  {
   "cell_type": "code",
   "execution_count": 7,
   "metadata": {},
   "outputs": [],
   "source": [
    "nums = [10,5,9,1,-1,-10,0]\n",
    "i=0\n",
    "while i<=len(nums):\n",
    "    #print(i)\n",
    "    for j in range(i+1,len(nums)):\n",
    "        if nums[j] >= nums[i]:             # 5,10,9,1  1,10,9,5\n",
    "            nums[i] = nums[i]\n",
    "            \n",
    "        else:\n",
    "            t= nums[i]\n",
    "            nums[i] = nums[j]\n",
    "            nums[j]=t\n",
    "    j =j+1\n",
    "    i=i+1\n"
   ]
  },
  {
   "cell_type": "code",
   "execution_count": 8,
   "metadata": {},
   "outputs": [
    {
     "data": {
      "text/plain": [
       "[-10, -1, 0, 1, 5, 9, 10]"
      ]
     },
     "execution_count": 8,
     "metadata": {},
     "output_type": "execute_result"
    }
   ],
   "source": [
    "nums"
   ]
  },
  {
   "cell_type": "code",
   "execution_count": null,
   "metadata": {},
   "outputs": [],
   "source": [
    "## Task -22"
   ]
  },
  {
   "cell_type": "code",
   "execution_count": 9,
   "metadata": {},
   "outputs": [],
   "source": [
    "def is_unival(root):\n",
    "    if root == null:\n",
    "        return true\n",
    "    if root.left != null and root.left.value != root.value:\n",
    "        return false\n",
    "    if root.right != null and root.right.value != root.value:\n",
    "        return false\n",
    "    if is_unival(root.left) and is_unival(root.right):\n",
    "        return true\n",
    "    return false\n",
    "\n",
    "def count_univals(root):\n",
    "    if root == null:\n",
    "        return 0\n",
    "    total_count = count_univals(root.left)+count_univals(root.right)\n",
    "    if is_unival(root):\n",
    "        total_count += 1\n",
    "    return total_count\n",
    "    \n",
    "\n",
    "def count_univals2(root):\n",
    "    total_count,is_unival = helper(root)\n",
    "    return total_count\n",
    "\n",
    "def helper(root):\n",
    "    if root == null:\n",
    "        return(0,true)\n",
    "    left_count, is_left_unival = helper(root.left)\n",
    "    right_count, is_right_unival = helper(root.right)\n",
    "    is_unival = true\n",
    "    if not is_left_unival or not is_right_unival:\n",
    "        is_unival = false\n",
    "    if root.left != null and root.left.value != root.value:\n",
    "        is_unival = false\n",
    "    if root.right != null and root.right.value != root.value:\n",
    "        is_unival = false\n",
    "    if is_unival:\n",
    "        return(left_count+right_count+1,true)\n",
    "    else:\n",
    "        return(left_count+right_count,false)\n",
    "    "
   ]
  },
  {
   "cell_type": "code",
   "execution_count": 22,
   "metadata": {},
   "outputs": [],
   "source": [
    "class solution:\n",
    "    def max_depth(self,root):\n",
    "        if root is None:\n",
    "            return 0\n",
    "        else:\n",
    "            return 1+ max(\n",
    "            self.max_depth(root.left),\n",
    "            self.max_depth(root.right))"
   ]
  },
  {
   "cell_type": "code",
   "execution_count": 25,
   "metadata": {},
   "outputs": [
    {
     "ename": "NameError",
     "evalue": "name 'self' is not defined",
     "output_type": "error",
     "traceback": [
      "\u001b[1;31m---------------------------------------------------------------------------\u001b[0m",
      "\u001b[1;31mNameError\u001b[0m                                 Traceback (most recent call last)",
      "\u001b[1;32m<ipython-input-25-6715f1e4f383>\u001b[0m in \u001b[0;36m<module>\u001b[1;34m\u001b[0m\n\u001b[0;32m      1\u001b[0m \u001b[0mroot\u001b[0m \u001b[1;33m=\u001b[0m \u001b[1;33m[\u001b[0m\u001b[1;36m3\u001b[0m\u001b[1;33m,\u001b[0m\u001b[1;36m9\u001b[0m\u001b[1;33m,\u001b[0m\u001b[1;36m20\u001b[0m\u001b[1;33m,\u001b[0m\u001b[1;34m'null'\u001b[0m\u001b[1;33m,\u001b[0m\u001b[1;34m'null'\u001b[0m\u001b[1;33m,\u001b[0m\u001b[1;36m17\u001b[0m\u001b[1;33m,\u001b[0m\u001b[1;36m5\u001b[0m\u001b[1;33m]\u001b[0m\u001b[1;33m\u001b[0m\u001b[1;33m\u001b[0m\u001b[0m\n\u001b[1;32m----> 2\u001b[1;33m \u001b[0msolution\u001b[0m\u001b[1;33m.\u001b[0m\u001b[0mmax_depth\u001b[0m\u001b[1;33m(\u001b[0m\u001b[0mself\u001b[0m\u001b[1;33m,\u001b[0m\u001b[0mroot\u001b[0m\u001b[1;33m)\u001b[0m\u001b[1;33m\u001b[0m\u001b[1;33m\u001b[0m\u001b[0m\n\u001b[0m",
      "\u001b[1;31mNameError\u001b[0m: name 'self' is not defined"
     ]
    }
   ],
   "source": [
    "root = [3,9,20,'null','null',17,5]\n",
    "solution.max_depth(self,root)"
   ]
  },
  {
   "cell_type": "markdown",
   "metadata": {},
   "source": [
    "## Task -24(Daily_coding_85):"
   ]
  },
  {
   "cell_type": "markdown",
   "metadata": {},
   "source": [
    "Given three 32-bit integers x, y, and b, return x if b is 1 and y if b is 0, using only mathematical or bit operations. You can assume b can only be 1 or 0"
   ]
  },
  {
   "cell_type": "code",
   "execution_count": 3,
   "metadata": {},
   "outputs": [
    {
     "name": "stdout",
     "output_type": "stream",
     "text": [
      "True\n",
      "True\n"
     ]
    }
   ],
   "source": [
    "def get_num(x, y, b):\n",
    "    return x * b + y * abs(b-1)\n",
    "\n",
    "\n",
    "print(get_num(3, 4, 1) == 3)\n",
    "print(get_num(3, 4, 0) == 4)"
   ]
  },
  {
   "cell_type": "code",
   "execution_count": null,
   "metadata": {},
   "outputs": [],
   "source": [
    "### Task - 25:"
   ]
  },
  {
   "cell_type": "markdown",
   "metadata": {},
   "source": [
    "Given a matrix of 1s and 0s, return the number of \"islands\" in the matrix. A 1 represents land and 0 represents water, so an island is a group of 1s that are neighboring whose perimeter is surrounded by water.\n",
    "\n",
    "For example, this matrix has 4 islands.\n",
    "\n",
    "1 0 0 0 0\n",
    "0 0 1 1 0\n",
    "0 1 1 0 0\n",
    "0 0 0 0 0\n",
    "1 1 0 0 1\n",
    "1 1 0 0 1"
   ]
  },
  {
   "cell_type": "code",
   "execution_count": 36,
   "metadata": {},
   "outputs": [],
   "source": [
    "z=[[1,0,0,0,0],\n",
    "  [0,0,1,1,0],\n",
    "  [0,1,1,0,0],\n",
    "  [0,0,0,0,0],\n",
    "  [1,1,0,0,1],\n",
    "  [1,1,0,0,1]]"
   ]
  },
  {
   "cell_type": "code",
   "execution_count": 37,
   "metadata": {},
   "outputs": [
    {
     "name": "stdout",
     "output_type": "stream",
     "text": [
      "s\n",
      "s\n",
      "s\n",
      "s\n",
      "s\n",
      "s\n",
      "s\n",
      "s\n",
      "s\n",
      "s\n",
      "s\n",
      "2047\n"
     ]
    }
   ],
   "source": [
    "\n",
    "count = 0\n",
    "for i in range(len(z)):\n",
    "    for j in range(len(z[0])):\n",
    "        if z[i][j] == 1:\n",
    "            count += count+1\n",
    "            island(z,i,j)\n",
    "    \n",
    "print(count)    \n",
    "\n",
    "def island(z,i,j):\n",
    "    if (i<0 or i>=len(z) or j<0 or j<=len(z[0]) or z[i][j]==0):\n",
    "        print(\"s\")\n",
    "        return\n",
    "    z[i][j]=0\n",
    "    island(z,i-1,j)\n",
    "    island(z,i+1,j)\n",
    "    island(z,i,j-1)\n",
    "    island(z,i,j+1)\n",
    "    "
   ]
  },
  {
   "cell_type": "code",
   "execution_count": null,
   "metadata": {},
   "outputs": [],
   "source": []
  },
  {
   "cell_type": "code",
   "execution_count": 63,
   "metadata": {
    "collapsed": true
   },
   "outputs": [
    {
     "name": "stdout",
     "output_type": "stream",
     "text": [
      "0--0\n",
      "0\n",
      "0\n",
      "0\n",
      "0\n",
      "1--2\n",
      "0\n",
      "0\n",
      "0\n",
      "0\n",
      "1--3\n",
      "0\n",
      "0\n",
      "0\n",
      "0\n",
      "2--1\n",
      "0\n",
      "0\n",
      "0\n",
      "0\n",
      "2--2\n",
      "0\n",
      "0\n",
      "0\n",
      "0\n",
      "4--0\n",
      "0\n",
      "0\n",
      "0\n",
      "0\n",
      "4--1\n",
      "0\n",
      "0\n",
      "0\n",
      "0\n",
      "4--4\n",
      "0\n",
      "0\n",
      "0\n",
      "0\n",
      "5--0\n",
      "0\n",
      "0\n",
      "0\n",
      "0\n",
      "5--1\n",
      "0\n",
      "0\n",
      "0\n",
      "0\n",
      "5--4\n",
      "0\n",
      "0\n",
      "0\n",
      "0\n",
      "count is 11\n"
     ]
    }
   ],
   "source": [
    "count = 0\n",
    "visited = set()\n",
    "for i in range(len(z)):\n",
    "    for k in range(len(z[0])):\n",
    "        if z[i][k]:\n",
    "            \n",
    "            coord =\"{}--{}\".format(i,k)\n",
    "            print(coord)\n",
    "            \n",
    "            if coord in visited:\n",
    "                print(0)\n",
    "            else:\n",
    "                visited.add(coord)\n",
    "            if i > 0 and z[i-1][k]:\n",
    "                coord = \"{}--{}\".format(i,k)\n",
    "                #print(coord)\n",
    "                \n",
    "            if coord in visited:\n",
    "                print(0)\n",
    "                \n",
    "            else:\n",
    "                visited.add(coord)\n",
    "                \n",
    "                \n",
    "            if i < len(z)-1 and z[i+1][k]:\n",
    "                coord = \"{}--{}\".format(i,k)\n",
    "            if coord in visited:\n",
    "                print(0)\n",
    "            else:\n",
    "                visited.add(coord)\n",
    "                \n",
    "            if k > 0 and z[i][k-1]:\n",
    "                coord = \"{}--{}\".format(i,k)\n",
    "            if coord in visited:\n",
    "                print(0)\n",
    "            else:\n",
    "                visited.add(coord)\n",
    "                \n",
    "            if k < len(z[0])-1 and z[i][k+1]:\n",
    "                coord = \"{}--{}\".format(i,k)\n",
    "            if coord in visited:\n",
    "                print(0)\n",
    "            else:\n",
    "                visited.add(coord)\n",
    "            count= count+1\n",
    "\n",
    "print(\"count is\",count)\n",
    "                \n",
    "                \n",
    "                \n",
    "                \n",
    "                \n",
    "              "
   ]
  },
  {
   "cell_type": "code",
   "execution_count": 37,
   "metadata": {},
   "outputs": [
    {
     "name": "stdout",
     "output_type": "stream",
     "text": [
      "True\n"
     ]
    }
   ],
   "source": [
    "def add_island(x, y, world_map, visited):\n",
    "    coord = \"{}-{}\".format(x, y)\n",
    "\n",
    "    if coord in visited:\n",
    "        return 0\n",
    "\n",
    "    visited.add(coord)\n",
    "\n",
    "    if x > 0 and world_map[x-1][y]:\n",
    "        add_island(x-1, y, world_map, visited)\n",
    "    if x < len(world_map) - 1 and world_map[x+1][y]:\n",
    "        add_island(x+1, y, world_map, visited)\n",
    "    if y > 0 and world_map[x][y-1]:\n",
    "        add_island(x, y-1, world_map, visited)\n",
    "    if y < len(world_map[0]) - 1 and world_map[x][y+1]:\n",
    "        add_island(x, y+1, world_map, visited)\n",
    "\n",
    "    return 1\n",
    "\n",
    "\n",
    "def count_islands(world_map):\n",
    "    count = 0\n",
    "    visited = set()\n",
    "    for i in range(len(world_map)):\n",
    "        for k in range(len(world_map[0])):\n",
    "            if world_map[i][k]:\n",
    "                count += add_island(i, k, world_map, visited)\n",
    "\n",
    "    return count\n",
    "\n",
    "\n",
    "world_map = [\n",
    "    [1, 0, 0, 0, 0],\n",
    "    [0, 0, 1, 1, 0],\n",
    "    [0, 1, 1, 0, 0],\n",
    "    [0, 0, 0, 0, 0],\n",
    "    [1, 1, 0, 0, 1],\n",
    "    [1, 1, 0, 0, 1],\n",
    "]\n",
    "print(count_islands(world_map) == 4)"
   ]
  },
  {
   "cell_type": "code",
   "execution_count": 39,
   "metadata": {},
   "outputs": [],
   "source": [
    "world_map = [\n",
    "    [1, 0, 0, 0, 0],\n",
    "    [0, 0, 1, 1, 0],\n",
    "    [0, 1, 1, 0, 0],\n",
    "    [0, 0, 0, 0, 0],\n",
    "    [1, 1, 0, 0, 1],\n",
    "    [1, 1, 0, 0, 1],\n",
    "]"
   ]
  },
  {
   "cell_type": "code",
   "execution_count": 40,
   "metadata": {},
   "outputs": [
    {
     "data": {
      "text/plain": [
       "list"
      ]
     },
     "execution_count": 40,
     "metadata": {},
     "output_type": "execute_result"
    }
   ],
   "source": [
    "type(world_map)"
   ]
  },
  {
   "cell_type": "markdown",
   "metadata": {},
   "source": [
    "### Task - 26 (Daily Coding Problem: Problem #88)"
   ]
  },
  {
   "cell_type": "markdown",
   "metadata": {},
   "source": [
    "Implement division of two positive integers without using the division, multiplication, or modulus operators. Return the quotient as an integer, ignoring the remainder."
   ]
  },
  {
   "cell_type": "code",
   "execution_count": 4,
   "metadata": {},
   "outputs": [
    {
     "name": "stdout",
     "output_type": "stream",
     "text": [
      "the quotient value is  4\n"
     ]
    }
   ],
   "source": [
    "x,y=12,3\n",
    "\n",
    "if x < 0 or y < 0:\n",
    "    sign = -1\n",
    "else:\n",
    "    sign = 1\n",
    "    \n",
    "count = 0\n",
    "while (x>=y):\n",
    "    x = x-y\n",
    "    count +=1\n",
    "    \n",
    "print(\"the quotient value is \" ,count*sign)"
   ]
  },
  {
   "cell_type": "markdown",
   "metadata": {},
   "source": [
    "### Task -27 (Daily Coding Problem: Problem #86 [Medium]):"
   ]
  },
  {
   "cell_type": "markdown",
   "metadata": {},
   "source": [
    "Given a string of parentheses, write a function to compute the minimum number of parentheses to be removed to make the string valid (i.e. each open parenthesis is eventually closed).\n",
    "\n",
    "For example, given the string \"()())()\", you should return 1. Given the string \")(\", you should return 2, since we must remove all of them.\n",
    "\n"
   ]
  },
  {
   "cell_type": "code",
   "execution_count": 33,
   "metadata": {},
   "outputs": [
    {
     "name": "stdout",
     "output_type": "stream",
     "text": [
      "2\n",
      "2\n"
     ]
    }
   ],
   "source": [
    "def minParentheses(p): \n",
    "      \n",
    "    # maintain balance of string  \n",
    "    bal=0\n",
    "    ans=0\n",
    "    for i in range(0,len(p)): \n",
    "        if(p[i]=='('): \n",
    "            bal+=1\n",
    "        else: \n",
    "            bal+=-1\n",
    "              \n",
    "        # It is guaranteed bal >= -1 \n",
    "        if(bal==-1): \n",
    "            ans+=1\n",
    "            bal+=1\n",
    "    return bal+ans \n",
    "  \n",
    "# Driver code \n",
    "if __name__=='__main__': \n",
    "    p = \"()())(()\"\n",
    "      \n",
    "# Function to print required answer  \n",
    "    print(minParentheses(p)) \n",
    "    \n",
    "   # ------------------- (or) (with out function) ---------------------\n",
    "\n",
    "s=\"()())(()\"\n",
    "bal =0\n",
    "chng = 0\n",
    "count =0\n",
    "for i in range(len(s)):\n",
    "    if s[i] == \"(\":\n",
    "        bal += 1\n",
    "    else:\n",
    "        bal -= 1\n",
    "    if (bal == -1):\n",
    "        chng += 1 \n",
    "        bal +=1\n",
    "print(bal+chng)"
   ]
  },
  {
   "cell_type": "markdown",
   "metadata": {},
   "source": [
    "Understanding if __name__ == “__main__” in Python (go through with the below link)\n",
    "\n",
    "1. Every module in Python has a special attribute called __name__. The value of __name__ attribute is set to “__main__” when module is run as main program. Otherwise, the value of __name__ is set to contain the name of the module.\n",
    "2. We use if __name__ == “__main__” block to prevent (certain) code from being run when the module is imported.\n",
    "\n",
    "https://medium.com/python-features/understanding-if-name-main-in-python-a37a3d4ab0c3"
   ]
  },
  {
   "cell_type": "code",
   "execution_count": null,
   "metadata": {},
   "outputs": [],
   "source": [
    "creat classandmethods(using __init__)\n",
    "    \n",
    "import math\n",
    "class Pizza:\n",
    "    def __init__(self, radius, ingredients):\n",
    "        self.radius = radius\n",
    "        self.ingredients = ingredients\n",
    "\n",
    "    def __repr__(self):\n",
    "        return (f'Pizza({self.radius!r}, '\n",
    "                f'{self.ingredients!r})')\n",
    "\n",
    "    def area(self):\n",
    "        return self.circle_area(self.radius)\n",
    "\n",
    "    @staticmethod\n",
    "    def circle_area(r):\n",
    "        return r ** 2 * math.pi\n",
    "\n",
    ">>> p = Pizza(4, ['mozzarella', 'tomatoes'])\n",
    ">>> p\n",
    "Pizza(4, ['mozzarella', 'tomatoes'])\n",
    ">>> p.area()\n",
    "50.26548245743669\n",
    ">>> Pizza.circle_area(4)\n",
    "50.26548245743669"
   ]
  },
  {
   "cell_type": "markdown",
   "metadata": {},
   "source": [
    "### Task -28 (Daily coding problems 255):"
   ]
  },
  {
   "cell_type": "markdown",
   "metadata": {},
   "source": [
    "This problem was asked by Microsoft.\n",
    "\n",
    "The transitive closure of a graph is a measure of which vertices are reachable from other vertices. It can be represented as a matrix M, where M[i][j] == 1 if there is a path between vertices i and j, and otherwise 0.\n",
    "\n",
    "For example, suppose we are given the following graph in adjacency list form:"
   ]
  },
  {
   "cell_type": "code",
   "execution_count": 4,
   "metadata": {},
   "outputs": [
    {
     "name": "stdout",
     "output_type": "stream",
     "text": [
      "After creating dictionary {0: [0, 1, 3], 1: [1, 2], 2: [2], 3: [3]}\n",
      "expected output matrix is : [[1, 1, 0, 1], [0, 1, 1, 0], [0, 0, 1, 0], [0, 0, 0, 1]]\n"
     ]
    }
   ],
   "source": [
    "g = [[0,1,3],\n",
    "    [1,2],\n",
    "    [2],\n",
    "    [3]]\n",
    "\n",
    "def make_zeros(n_rows: int, n_columns: int):                 ### Create zero matrix without using numpy ##\n",
    "    return [[0] * n_columns for _ in range(n_rows)]\n",
    "matrix = make_zeros(len(g),len(g))\n",
    "matrix\n",
    "\n",
    "sample ={}                                            ### Creating dictionary ###\n",
    "for i in range(len(g)):\n",
    "    #print(i)\n",
    "    sample[i]=g[i]\n",
    "        \n",
    "print(\"After creating dictionary\",sample)\n",
    "\n",
    "for (k,v) in sample.items():\n",
    "    for j in sample[k]:\n",
    "        matrix[k][j] = 1\n",
    "print(f'expected output matrix is :', matrix)\n",
    "    #print(k,v)"
   ]
  },
  {
   "cell_type": "code",
   "execution_count": 19,
   "metadata": {},
   "outputs": [],
   "source": [
    "def make_zeros(n_rows: int, n_columns: int):                 ### Create zero matrix without using numpy ##\n",
    "    m = [[0] * n_columns for _ in range(n_rows)]\n",
    "    print(m)\n",
    "    print(m)"
   ]
  },
  {
   "cell_type": "code",
   "execution_count": 15,
   "metadata": {},
   "outputs": [
    {
     "data": {
      "text/plain": [
       "[[0, 0, 0], [0, 0, 0], [0, 0, 0]]"
      ]
     },
     "execution_count": 15,
     "metadata": {},
     "output_type": "execute_result"
    }
   ],
   "source": [
    "m"
   ]
  },
  {
   "cell_type": "code",
   "execution_count": 14,
   "metadata": {
    "collapsed": true
   },
   "outputs": [
    {
     "name": "stdout",
     "output_type": "stream",
     "text": [
      "m is [[0, 0, 0, 0], [0, 0, 0, 0], [0, 0, 0, 0], [0, 0, 0, 0]]\n",
      "{0: [0, 1, 3], 1: [1, 2], 2: [2], 3: [3]}\n"
     ]
    },
    {
     "ename": "NameError",
     "evalue": "name 'm' is not defined",
     "output_type": "error",
     "traceback": [
      "\u001b[1;31m---------------------------------------------------------------------------\u001b[0m",
      "\u001b[1;31mNameError\u001b[0m                                 Traceback (most recent call last)",
      "\u001b[1;32m<ipython-input-14-a56ce79ab69d>\u001b[0m in \u001b[0;36m<module>\u001b[1;34m\u001b[0m\n\u001b[0;32m     36\u001b[0m \u001b[0mtc_grph\u001b[0m\u001b[1;33m.\u001b[0m\u001b[0mmake_zeros\u001b[0m\u001b[1;33m(\u001b[0m\u001b[0mlen\u001b[0m\u001b[1;33m(\u001b[0m\u001b[0mg\u001b[0m\u001b[1;33m)\u001b[0m\u001b[1;33m,\u001b[0m\u001b[0mlen\u001b[0m\u001b[1;33m(\u001b[0m\u001b[0mg\u001b[0m\u001b[1;33m)\u001b[0m\u001b[1;33m)\u001b[0m\u001b[1;33m\u001b[0m\u001b[1;33m\u001b[0m\u001b[0m\n\u001b[0;32m     37\u001b[0m \u001b[0mtc_grph\u001b[0m\u001b[1;33m.\u001b[0m\u001b[0mcnv_dic\u001b[0m\u001b[1;33m(\u001b[0m\u001b[0mg\u001b[0m\u001b[1;33m)\u001b[0m\u001b[1;33m\u001b[0m\u001b[1;33m\u001b[0m\u001b[0m\n\u001b[1;32m---> 38\u001b[1;33m \u001b[0mtc_grph\u001b[0m\u001b[1;33m.\u001b[0m\u001b[0mresult\u001b[0m\u001b[1;33m(\u001b[0m\u001b[0mm\u001b[0m\u001b[1;33m,\u001b[0m\u001b[0msample\u001b[0m\u001b[1;33m)\u001b[0m\u001b[1;33m\u001b[0m\u001b[1;33m\u001b[0m\u001b[0m\n\u001b[0m\u001b[0;32m     39\u001b[0m \u001b[1;33m\u001b[0m\u001b[0m\n",
      "\u001b[1;31mNameError\u001b[0m: name 'm' is not defined"
     ]
    }
   ],
   "source": [
    "g = [[0,1,3],\n",
    "    [1,2],\n",
    "    [2],\n",
    "    [3]]\n",
    "sample ={}\n",
    "\n",
    "class tc_grph:\n",
    "    def __init__(self,g):\n",
    "        self.g = g\n",
    "        self.m = m\n",
    "        #self.n_colmns = n_columns\n",
    "        #self.n_rows = n_rows\n",
    "        \n",
    "    def make_zeros(n_rows:int,n_columns:int):\n",
    "        return [[0]*n_columns for _ in range(n_rows) ]\n",
    "    m = make_zeros(len(g),len(g))\n",
    "    print(\"m is\",m)\n",
    "\n",
    "    \n",
    "    def cnv_dic(self):\n",
    "        \n",
    "        for i in range(len(g)):\n",
    "            sample[i]=g[i]\n",
    "        print(sample)\n",
    "        return sample\n",
    "    \n",
    "    def result(m,sample):\n",
    "       # print(make_zeros(len(g),len(g)))\n",
    "        #mat = make_zeros(len(g),len(g))\n",
    "        for (k,v) in sample.items():\n",
    "            for j in sample[k]:\n",
    "                m[k][j] = 1\n",
    "        print(m)\n",
    "        return m\n",
    "    \n",
    "tc_grph.make_zeros(len(g),len(g))   \n",
    "tc_grph.cnv_dic(g)\n",
    "tc_grph.result(m,sample)\n",
    "    "
   ]
  },
  {
   "cell_type": "code",
   "execution_count": 12,
   "metadata": {},
   "outputs": [
    {
     "data": {
      "text/plain": [
       "[[0, 0, 0, 0], [0, 0, 0, 0], [0, 0, 0, 0], [0, 0, 0, 0]]"
      ]
     },
     "execution_count": 12,
     "metadata": {},
     "output_type": "execute_result"
    }
   ],
   "source": [
    "def make_zeros(n_rows:int,n_columns:int):\n",
    "    return [[0]*n_columns for _ in range(n_rows) ]\n",
    "make_zeros(len(g),len(g))"
   ]
  },
  {
   "cell_type": "code",
   "execution_count": 16,
   "metadata": {
    "collapsed": true
   },
   "outputs": [
    {
     "data": {
      "text/plain": [
       "['C:\\\\Users\\\\AP_2020\\\\Documents\\\\Python Scripts',\n",
       " 'C:\\\\Users\\\\AP_2020\\\\anaconda3\\\\python37.zip',\n",
       " 'C:\\\\Users\\\\AP_2020\\\\anaconda3\\\\DLLs',\n",
       " 'C:\\\\Users\\\\AP_2020\\\\anaconda3\\\\lib',\n",
       " 'C:\\\\Users\\\\AP_2020\\\\anaconda3',\n",
       " '',\n",
       " 'C:\\\\Users\\\\AP_2020\\\\anaconda3\\\\lib\\\\site-packages',\n",
       " 'C:\\\\Users\\\\AP_2020\\\\anaconda3\\\\lib\\\\site-packages\\\\win32',\n",
       " 'C:\\\\Users\\\\AP_2020\\\\anaconda3\\\\lib\\\\site-packages\\\\win32\\\\lib',\n",
       " 'C:\\\\Users\\\\AP_2020\\\\anaconda3\\\\lib\\\\site-packages\\\\Pythonwin',\n",
       " 'C:\\\\Users\\\\AP_2020\\\\anaconda3\\\\lib\\\\site-packages\\\\IPython\\\\extensions',\n",
       " 'C:\\\\Users\\\\AP_2020\\\\.ipython']"
      ]
     },
     "execution_count": 16,
     "metadata": {},
     "output_type": "execute_result"
    }
   ],
   "source": [
    "import sys\n",
    "sys.path"
   ]
  },
  {
   "cell_type": "markdown",
   "metadata": {},
   "source": [
    "### Task - 29 :\n",
    "find the count of array values with out using count function.\n",
    "eg : arr =[0,1,3,1,3,3] is given as input, it should return 0-1,1-2,3-3."
   ]
  },
  {
   "cell_type": "code",
   "execution_count": 30,
   "metadata": {},
   "outputs": [
    {
     "name": "stdout",
     "output_type": "stream",
     "text": [
      "{1: 1, 2: 1, 3: 2, 20: 1}\n"
     ]
    }
   ],
   "source": [
    "arr =[1,2,3,3,20]\n",
    "\n",
    "{i:arr.count(i) for i in range(len(arr))}\n",
    "\n",
    "##------------------------------------- (or) -----------------------------------\n",
    "\n",
    "temp = set(arr)\n",
    "result ={}\n",
    "for i in temp:\n",
    "    result[i]=arr.count(i)\n",
    "    \n",
    "print(result)\n",
    "\n",
    "## ---------------------------------- (or) ------------------------------------\n",
    "\n",
    "dic = {}\n",
    "for i in arr:\n",
    "    if i in dic:\n",
    "        dic[i] +=1\n",
    "    else:\n",
    "        dic[i] = 1\n",
    "        \n",
    "dic={k:v for k,v in dic.items() if v > 1}\n",
    "dic"
   ]
  },
  {
   "cell_type": "code",
   "execution_count": 32,
   "metadata": {},
   "outputs": [
    {
     "data": {
      "text/plain": [
       "{3: 2}"
      ]
     },
     "execution_count": 32,
     "metadata": {},
     "output_type": "execute_result"
    }
   ],
   "source": [
    "dic"
   ]
  },
  {
   "cell_type": "code",
   "execution_count": null,
   "metadata": {},
   "outputs": [],
   "source": []
  },
  {
   "cell_type": "code",
   "execution_count": null,
   "metadata": {},
   "outputs": [],
   "source": []
  },
  {
   "cell_type": "code",
   "execution_count": null,
   "metadata": {},
   "outputs": [],
   "source": []
  },
  {
   "cell_type": "code",
   "execution_count": null,
   "metadata": {},
   "outputs": [],
   "source": []
  },
  {
   "cell_type": "code",
   "execution_count": null,
   "metadata": {},
   "outputs": [],
   "source": []
  },
  {
   "cell_type": "code",
   "execution_count": null,
   "metadata": {},
   "outputs": [],
   "source": []
  },
  {
   "cell_type": "code",
   "execution_count": null,
   "metadata": {},
   "outputs": [],
   "source": []
  }
 ],
 "metadata": {
  "kernelspec": {
   "display_name": "Python 3",
   "language": "python",
   "name": "python3"
  },
  "language_info": {
   "codemirror_mode": {
    "name": "ipython",
    "version": 3
   },
   "file_extension": ".py",
   "mimetype": "text/x-python",
   "name": "python",
   "nbconvert_exporter": "python",
   "pygments_lexer": "ipython3",
   "version": "3.7.6"
  }
 },
 "nbformat": 4,
 "nbformat_minor": 4
}
